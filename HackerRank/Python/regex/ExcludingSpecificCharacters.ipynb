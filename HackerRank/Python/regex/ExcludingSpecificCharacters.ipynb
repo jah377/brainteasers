{
 "cells": [
  {
   "cell_type": "markdown",
   "metadata": {},
   "source": [
    "# [Regex - Excluding Specific Characters](https://www.hackerrank.com/challenges/excluding-specific-characters/problem)\n",
    "\n",
    "[regex cheatsheet](https://learnbyexample.github.io/python-regex-cheatsheet/)\n",
    "\n",
    "**Background**:\n",
    "- `[^...]` matches any word chars NOT in [ ]\n",
    "\n",
    "**Goal**: WRite regex to match S\n",
    "- len(S) = 6\n",
    "1. 1st char - NOT be a digit\n",
    "2. 2nd char must not be lowercase vowle\n",
    "3. 3rd char should not be b,c,D,F\n",
    "4. Not a whitespace character\n",
    "5. not uppercase vowel\n",
    "6. Not . or ,\n",
    "\n",
    "**Example**:\n",
    "- \\w matches $**one**\n",
    "\n",
    "- \\W matches **$**one"
   ]
  },
  {
   "cell_type": "code",
   "execution_count": 1,
   "metadata": {},
   "outputs": [],
   "source": [
    "# Input\n",
    "test_string = 'think?'\n"
   ]
  },
  {
   "cell_type": "markdown",
   "metadata": {},
   "source": [
    "# My Solution = 100%\n",
    "\n",
    "`pattern = ^[^0-9][^aeiou][^bcDF][^\\r\\n\\t\\f ][^AEIOU][^.,]$1`\n",
    "- ^... = match if start with NOT 0-9\n",
    "- ...$ = match if exactly 6 chars\n"
   ]
  },
  {
   "cell_type": "code",
   "execution_count": 2,
   "metadata": {},
   "outputs": [
    {
     "name": "stdout",
     "output_type": "stream",
     "text": [
      "true\n"
     ]
    }
   ],
   "source": [
    "import re\n",
    "\n",
    "regex_pattern = r'^[^0-9][^aeiou][^bcDF][^\\r\\n\\t\\f ][^AEIOU][^.,]$'        # pattern\n",
    "\n",
    "\n",
    "match = re.search(regex_pattern, test_string) # re.search checks if pattern found, return match obj\n",
    "bool_match = match is not None                # True if match \n",
    "print(str(bool_match).lower())                # print result\n"
   ]
  },
  {
   "cell_type": "markdown",
   "metadata": {},
   "source": [
    "# Alternative Solution\n"
   ]
  },
  {
   "cell_type": "code",
   "execution_count": 3,
   "metadata": {},
   "outputs": [],
   "source": [
    "None"
   ]
  }
 ],
 "metadata": {
  "kernelspec": {
   "display_name": "Python 3",
   "language": "python",
   "name": "python3"
  },
  "language_info": {
   "codemirror_mode": {
    "name": "ipython",
    "version": 3
   },
   "file_extension": ".py",
   "mimetype": "text/x-python",
   "name": "python",
   "nbconvert_exporter": "python",
   "pygments_lexer": "ipython3",
   "version": "3.7.4"
  }
 },
 "nbformat": 4,
 "nbformat_minor": 2
}
