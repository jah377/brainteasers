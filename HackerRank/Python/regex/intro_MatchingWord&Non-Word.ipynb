{
 "cells": [
  {
   "cell_type": "markdown",
   "metadata": {},
   "source": [
    "# [Regex - Matching Word and Non-Word Characters](https://www.hackerrank.com/challenges/matching-word-non-word/problem?h_r=next-challenge&h_v=zen&h_r=next-challenge&h_v=zen&h_r=next-challenge&h_v=zen)\n",
    "\n",
    "[regex cheatsheet](https://learnbyexample.github.io/python-regex-cheatsheet/)\n",
    "\n",
    "**Background**:\n",
    "- `\\w` matches any word chars (a-z, A-Z, 0-9, and _ )\n",
    "\n",
    "- `\\W` matches any non-word chars\n",
    "\n",
    "**Goal**: Match string to the pattern xxxXxxxxxxxxxxXxxx\n",
    "- x = word characters\n",
    "- X = non-word characters\n",
    "\n",
    "**Example**:\n",
    "- \\w matches $**one**\n",
    "\n",
    "- \\W matches **$**one"
   ]
  },
  {
   "cell_type": "code",
   "execution_count": 1,
   "metadata": {},
   "outputs": [],
   "source": [
    "# Input\n",
    "test_string = 'www.hackerrank.com'\n"
   ]
  },
  {
   "cell_type": "markdown",
   "metadata": {},
   "source": [
    "# My Solution = 100%\n",
    "\n",
    "`pattern = \\w{3}\\W\\w{10}\\W\\w{3}`\n",
    "- `\\w{n}` = match n word char\n",
    "- `\\W` = match 1 non-word char\n",
    "- Anchoring not needed\n"
   ]
  },
  {
   "cell_type": "code",
   "execution_count": 2,
   "metadata": {},
   "outputs": [
    {
     "name": "stdout",
     "output_type": "stream",
     "text": [
      "true\n"
     ]
    }
   ],
   "source": [
    "import re\n",
    "\n",
    "regex_pattern = r'\\w{3}\\W\\w{10}\\W\\w{3}'        # pattern\n",
    "\n",
    "\n",
    "match = re.search(regex_pattern, test_string) # re.search checks if pattern found, return match obj\n",
    "bool_match = match is not None                # True if match \n",
    "print(str(bool_match).lower())                # print result\n"
   ]
  },
  {
   "cell_type": "markdown",
   "metadata": {},
   "source": [
    "# Alternative Solution\n"
   ]
  },
  {
   "cell_type": "code",
   "execution_count": 3,
   "metadata": {},
   "outputs": [],
   "source": [
    "None"
   ]
  }
 ],
 "metadata": {
  "kernelspec": {
   "display_name": "Python 3",
   "language": "python",
   "name": "python3"
  },
  "language_info": {
   "codemirror_mode": {
    "name": "ipython",
    "version": 3
   },
   "file_extension": ".py",
   "mimetype": "text/x-python",
   "name": "python",
   "nbconvert_exporter": "python",
   "pygments_lexer": "ipython3",
   "version": "3.7.4"
  }
 },
 "nbformat": 4,
 "nbformat_minor": 2
}
