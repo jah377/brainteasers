{
 "cells": [
  {
   "cell_type": "markdown",
   "metadata": {},
   "source": [
    "# [Regex - Matching Whitespace & Non-Whitespace Character](https://www.hackerrank.com/challenges/matching-whitespace-non-whitespace-character/problem?h_r=next-challenge&h_v=zen&h_r=next-challenge&h_v=zen)\n",
    "\n",
    "[regex cheatsheet](https://learnbyexample.github.io/python-regex-cheatsheet/)\n",
    "\n",
    "**Background**:\n",
    "- `\\s` matches any whitespace character [ /r/n/t/f]\n",
    "     - ' ' = space\n",
    "     - '\\r' = carriage term (input) \n",
    "     - '\\n' = new line\n",
    "     - '\\t' = tab\n",
    "     - '\\f' = line feed\n",
    "- `\\S` matches any non-whitespace character\n",
    "\n",
    "**Goal**: Match string to the pattern XXxXXxXX\n",
    "- x = whitespace characters\n",
    "- X = non-whitespace characters\n",
    "\n",
    "**Example**:\n",
    "- \\s matches A **space** B\n",
    "- \\S matches **A** B"
   ]
  },
  {
   "cell_type": "code",
   "execution_count": 1,
   "metadata": {},
   "outputs": [],
   "source": [
    "# Input\n",
    "test_string = '12 11 15'\n"
   ]
  },
  {
   "cell_type": "markdown",
   "metadata": {},
   "source": [
    "# My Solution = 100%\n",
    "\n",
    "`pattern = \\d{2}\\D\\d{2}\\D\\d{4}`\n",
    "- `\\S{2}` = match two non-whitespace char\n",
    "- `\\s` = match 1 whitespace char\n",
    "- Anchoring not needed\n"
   ]
  },
  {
   "cell_type": "code",
   "execution_count": 4,
   "metadata": {},
   "outputs": [
    {
     "name": "stdout",
     "output_type": "stream",
     "text": [
      "true\n"
     ]
    }
   ],
   "source": [
    "import re\n",
    "\n",
    "regex_pattern = r'\\S{2}\\s\\S{2}\\s\\S{2}'        # pattern\n",
    "\n",
    "\n",
    "match = re.search(regex_pattern, test_string) # re.search checks if pattern found, return match obj\n",
    "bool_match = match is not None                # True if match \n",
    "print(str(bool_match).lower())                # print result\n"
   ]
  },
  {
   "cell_type": "markdown",
   "metadata": {},
   "source": [
    "# Alternative Solution\n"
   ]
  },
  {
   "cell_type": "code",
   "execution_count": 3,
   "metadata": {},
   "outputs": [],
   "source": [
    "None"
   ]
  }
 ],
 "metadata": {
  "kernelspec": {
   "display_name": "Python 3",
   "language": "python",
   "name": "python3"
  },
  "language_info": {
   "codemirror_mode": {
    "name": "ipython",
    "version": 3
   },
   "file_extension": ".py",
   "mimetype": "text/x-python",
   "name": "python",
   "nbconvert_exporter": "python",
   "pygments_lexer": "ipython3",
   "version": "3.7.4"
  }
 },
 "nbformat": 4,
 "nbformat_minor": 2
}
