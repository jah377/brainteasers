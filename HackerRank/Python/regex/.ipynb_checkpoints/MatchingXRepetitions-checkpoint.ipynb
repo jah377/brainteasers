{
 "cells": [
  {
   "cell_type": "markdown",
   "metadata": {},
   "source": [
    "# [Regex - Matching {x} Repetitions](https://www.hackerrank.com/challenges/matching-x-repetitions/problem)\n",
    "\n",
    "[regex cheatsheet](https://learnbyexample.github.io/python-regex-cheatsheet/)\n",
    "\n",
    "**Background**:\n",
    "- `{x}` = will match exactly x repeitions of characters\n",
    "    - w{3} = match w exactly 3 times\n",
    "\n",
    "**Goal**: Write regex that will match S using conditions:\n",
    "- len(S) = 45\n",
    "- i=0:40: letters or even digits\n",
    "- i=40+: od digits or whitespace characters\n"
   ]
  },
  {
   "cell_type": "code",
   "execution_count": 1,
   "metadata": {},
   "outputs": [],
   "source": [
    "# Input\n",
    "test_string = '2222222222aaaaaaaaaa2222222222aaaaaaaaaa13 57'\n"
   ]
  },
  {
   "cell_type": "markdown",
   "metadata": {},
   "source": [
    "# My Solution = 100%\n",
    "\n",
    "- ^... = match if string starts with lowercase"
   ]
  },
  {
   "cell_type": "code",
   "execution_count": 2,
   "metadata": {},
   "outputs": [
    {
     "name": "stdout",
     "output_type": "stream",
     "text": [
      "true\n"
     ]
    }
   ],
   "source": [
    "import re\n",
    "\n",
    "regex_pattern = r'^[a-zA-Z02468]{40}[13579\\s]{5}$'        # pattern\n",
    "\n",
    "\n",
    "match = re.search(regex_pattern, test_string) # re.search checks if pattern found, return match obj\n",
    "bool_match = match is not None                # True if match \n",
    "print(str(bool_match).lower())                # print result\n"
   ]
  },
  {
   "cell_type": "markdown",
   "metadata": {},
   "source": [
    "# Alternative Solution\n"
   ]
  },
  {
   "cell_type": "code",
   "execution_count": 3,
   "metadata": {},
   "outputs": [],
   "source": [
    "None"
   ]
  }
 ],
 "metadata": {
  "kernelspec": {
   "display_name": "Python 3",
   "language": "python",
   "name": "python3"
  },
  "language_info": {
   "codemirror_mode": {
    "name": "ipython",
    "version": 3
   },
   "file_extension": ".py",
   "mimetype": "text/x-python",
   "name": "python",
   "nbconvert_exporter": "python",
   "pygments_lexer": "ipython3",
   "version": "3.7.4"
  }
 },
 "nbformat": 4,
 "nbformat_minor": 2
}
