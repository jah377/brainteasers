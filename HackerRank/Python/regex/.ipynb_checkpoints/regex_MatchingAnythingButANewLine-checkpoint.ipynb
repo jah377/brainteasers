{
 "cells": [
  {
   "cell_type": "markdown",
   "metadata": {},
   "source": [
    "# [Regex - Match Anything But A NewLine](https://www.hackerrank.com/challenges/matching-anything-but-new-line/problem?h_r=next-challenge&h_v=zen)\n",
    "\n",
    "[regex cheatsheet](https://learnbyexample.github.io/python-regex-cheatsheet/)\n",
    "\n",
    "**Background**:\n",
    "- dot(.) matches anything (except for a newline)\n",
    "- Ex: 'A+B-C=DE' will match 'A.B.C.D.' pattern\n",
    "\n",
    "**Goal**: Write regular expression that matches only and exactly strings of form: \n",
    "- 'xxx.xxx.xxx.xxx' where variable x can be any single character except the newline\n",
    "\n",
    "**Example**:\n",
    "- '123.456.abc.def' --> TRUE\n",
    "- '1123.456.abc.def' --> FALSE"
   ]
  },
  {
   "cell_type": "code",
   "execution_count": 16,
   "metadata": {},
   "outputs": [],
   "source": [
    "# Input\n",
    "test_string = '...............................'"
   ]
  },
  {
   "cell_type": "markdown",
   "metadata": {},
   "source": [
    "# My Solution = 14/17 correct\n",
    "\n",
    "`.{3}` = matches any three non-newlines\n",
    "\n",
    "`\\.` = \\ removes special meaning of meta-character\n",
    "\n",
    "`.{3}\\..{3}\\..{3}\\..{3}` = xxx . xxx . xxx . xxx"
   ]
  },
  {
   "cell_type": "code",
   "execution_count": 20,
   "metadata": {},
   "outputs": [
    {
     "name": "stdout",
     "output_type": "stream",
     "text": [
      "true\n"
     ]
    }
   ],
   "source": [
    "import re\n",
    "\n",
    "regex_pattern = r'.{3}\\..{3}\\..{3}\\..{3}'    # pattern\n",
    "\n",
    "\n",
    "match = re.match(regex_pattern, test_string) # returns [input] if str matches pattern\n",
    "bool_match = match is not None               # True if match != empty list\n",
    "print(str(bool_match).lower())               # print result\n"
   ]
  },
  {
   "cell_type": "markdown",
   "metadata": {},
   "source": [
    "# Alternative Solution\n",
    "- Previous solution is not specific enough \n",
    "- Ex: 123.456.789.123.456.789 \n",
    "    - String matches pattern '.{3}\\..{3}\\..{3}\\..{3}'\n",
    "    - Substring '123.456.789.123' matches pattern --> return True\n",
    "    - Matches despire the additional characters in input\n",
    "    \n",
    "`^` = restricts the match to START of line\n",
    "\n",
    "`$` = restrings the match to END of line"
   ]
  },
  {
   "cell_type": "code",
   "execution_count": 21,
   "metadata": {},
   "outputs": [
    {
     "name": "stdout",
     "output_type": "stream",
     "text": [
      "false\n"
     ]
    }
   ],
   "source": [
    "\n",
    "regex_pattern = r'^.{3}\\..{3}\\..{3}\\..{3}$'  # pattern\n",
    "\n",
    "\n",
    "match = re.match(regex_pattern, test_string) # returns [input] if str matches pattern\n",
    "bool_match = match is not None               # True if match != empty list\n",
    "print(str(bool_match).lower())               # print result"
   ]
  },
  {
   "cell_type": "code",
   "execution_count": null,
   "metadata": {},
   "outputs": [],
   "source": []
  }
 ],
 "metadata": {
  "kernelspec": {
   "display_name": "Python 3",
   "language": "python",
   "name": "python3"
  },
  "language_info": {
   "codemirror_mode": {
    "name": "ipython",
    "version": 3
   },
   "file_extension": ".py",
   "mimetype": "text/x-python",
   "name": "python",
   "nbconvert_exporter": "python",
   "pygments_lexer": "ipython3",
   "version": "3.7.4"
  }
 },
 "nbformat": 4,
 "nbformat_minor": 2
}
