{
 "cells": [
  {
   "cell_type": "markdown",
   "metadata": {},
   "source": [
    "# [Regex - Matching Digits & Non-Digit Characters](https://www.hackerrank.com/challenges/matching-digits-non-digit-character/problem?h_r=next-challenge&h_v=zen)\n",
    "\n",
    "[regex cheatsheet](https://learnbyexample.github.io/python-regex-cheatsheet/)\n",
    "\n",
    "**Background**:\n",
    "- `\\d` matches any digit [0-9]\n",
    "- `\\D` matches any non-digit\n",
    "\n",
    "**Goal**: Match string to the pattern xxXxxXxxxx\n",
    "- x = digit char\n",
    "- X = non-digit char\n",
    "\n",
    "**Example**:\n",
    "- \\d\\d\\d matches Hack**101**\n",
    "- \\D\\D\\D matches **Hack**101"
   ]
  },
  {
   "cell_type": "code",
   "execution_count": 4,
   "metadata": {},
   "outputs": [],
   "source": [
    "# Input\n",
    "test_string = '10a10.2015452254'\n"
   ]
  },
  {
   "cell_type": "markdown",
   "metadata": {},
   "source": [
    "# My Solution = 100%\n",
    "\n",
    "`pattern = \\d{2}\\D\\d{2}\\D\\d{4}`\n",
    "- `\\d{2}` = match two digits\n",
    "- `\\D` = match 1 non-digit\n",
    "- Anchoring not needed\n"
   ]
  },
  {
   "cell_type": "code",
   "execution_count": 5,
   "metadata": {},
   "outputs": [
    {
     "name": "stdout",
     "output_type": "stream",
     "text": [
      "true\n"
     ]
    }
   ],
   "source": [
    "import re\n",
    "\n",
    "regex_pattern = r'\\d{2}\\D\\d{2}\\D\\d{4}'    # pattern\n",
    "\n",
    "\n",
    "match = re.search(regex_pattern, test_string) # re.search checks if pattern found, return match obj\n",
    "bool_match = match is not None                # True if match \n",
    "print(str(bool_match).lower())                # print result\n"
   ]
  },
  {
   "cell_type": "markdown",
   "metadata": {},
   "source": [
    "# Alternative Solution\n"
   ]
  },
  {
   "cell_type": "code",
   "execution_count": 3,
   "metadata": {},
   "outputs": [],
   "source": [
    "None"
   ]
  }
 ],
 "metadata": {
  "kernelspec": {
   "display_name": "Python 3",
   "language": "python",
   "name": "python3"
  },
  "language_info": {
   "codemirror_mode": {
    "name": "ipython",
    "version": 3
   },
   "file_extension": ".py",
   "mimetype": "text/x-python",
   "name": "python",
   "nbconvert_exporter": "python",
   "pygments_lexer": "ipython3",
   "version": "3.7.4"
  }
 },
 "nbformat": 4,
 "nbformat_minor": 2
}
