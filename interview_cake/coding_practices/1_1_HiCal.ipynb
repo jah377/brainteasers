{
 "cells": [
  {
   "cell_type": "markdown",
   "metadata": {},
   "source": [
    "# In House Calendar Tool\n",
    "\n",
    "## Goal:\n",
    "- Determine times in a day when everyone is available\n",
    "\n",
    "## Given:\n",
    "- Meetings stored as tuple (start_time, end_time)\n",
    "- Time represents the nyumber of 30min blocks past 9am\n",
    "    - (2,3) = meeting from 10am to 10:30am\n",
    "    - (6,9) = meeting from 12pm to 1:30pm\n",
    "- Cannot assume meetings are in order\n",
    "\n",
    "## Input:\n",
    "- Nested list of tuples of start and stop times for teams\n",
    "    - Ex: [(0,1), (3,5), (4,8), (10,12), (9,10)]\n",
    "    \n",
    "## Output: \n",
    "- Time blocks when any team is having a meeting\n",
    "    - Ex: [(0,1), (3,8), (9,12)]\n"
   ]
  },
  {
   "cell_type": "markdown",
   "metadata": {},
   "source": [
    "# Input"
   ]
  },
  {
   "cell_type": "code",
   "execution_count": 68,
   "metadata": {},
   "outputs": [],
   "source": [
    "meetings = [(3,5), (0,1), (4,8), (10,12), (9,10)]\n"
   ]
  },
  {
   "cell_type": "code",
   "execution_count": 69,
   "metadata": {},
   "outputs": [
    {
     "ename": "ValueError",
     "evalue": "3 is not in list",
     "output_type": "error",
     "traceback": [
      "\u001b[0;31m---------------------------------------------------------------------------\u001b[0m",
      "\u001b[0;31mValueError\u001b[0m                                Traceback (most recent call last)",
      "\u001b[0;32m<ipython-input-69-b3f1f3b033ce>\u001b[0m in \u001b[0;36m<module>\u001b[0;34m\u001b[0m\n\u001b[0;32m----> 1\u001b[0;31m \u001b[0mmeetings\u001b[0m\u001b[0;34m.\u001b[0m\u001b[0mindex\u001b[0m\u001b[0;34m(\u001b[0m\u001b[0;36m3\u001b[0m\u001b[0;34m)\u001b[0m\u001b[0;34m\u001b[0m\u001b[0;34m\u001b[0m\u001b[0m\n\u001b[0m",
      "\u001b[0;31mValueError\u001b[0m: 3 is not in list"
     ]
    }
   ],
   "source": [
    "meetings.index(3)"
   ]
  },
  {
   "cell_type": "markdown",
   "metadata": {},
   "source": [
    "# My Solution:\n",
    "\n",
    "**Steps**\n",
    "- Sort meetings by start time\n",
    "- Keep track of min and max times\n",
    "- If start>max time --> create new tuple\n",
    "- If end>max time --> update end time in newest tuple\n",
    "\n",
    "**Big O**\n",
    "- sort = O(nlogn)\n",
    "- for loop = O(n)\n",
    "- append = 0(1)\n"
   ]
  },
  {
   "cell_type": "code",
   "execution_count": null,
   "metadata": {},
   "outputs": [],
   "source": [
    "%%timeit\n",
    "def merge_times(meetings):\n",
    "    meetings.sort() # sort by start time x[0]\n",
    "    store = []\n",
    "    minT, maxT = [0,0] # keep track of max and min time values\n",
    "\n",
    "    for meet in meetings:\n",
    "        start, end = meet # assign start and stop\n",
    "\n",
    "        if not store:\n",
    "            store = [(start, end)]  # assign new tuple\n",
    "            minT, maxT = start, end # new min and max        \n",
    "\n",
    "        if start>maxT:\n",
    "            # If True, must create new tuple\n",
    "            store.append((start, end)) # add tuple\n",
    "            minT, maxT = start, end # new min and max times\n",
    "\n",
    "        elif end>maxT:\n",
    "            # If True, must update end time of last tuple\n",
    "            maxT = end # new max time\n",
    "            store[-1] = (minT, maxT)\n",
    "            \n",
    "    return store\n",
    "\n",
    "merge_times(meetings)\n",
    "\n"
   ]
  },
  {
   "cell_type": "markdown",
   "metadata": {},
   "source": [
    "# Validation\n"
   ]
  },
  {
   "cell_type": "code",
   "execution_count": null,
   "metadata": {
    "scrolled": true
   },
   "outputs": [],
   "source": [
    "merge_times( [(1, 2), (2, 3)] )"
   ]
  },
  {
   "cell_type": "code",
   "execution_count": null,
   "metadata": {},
   "outputs": [],
   "source": [
    "merge_times( [(1, 5), (2, 3)] )"
   ]
  },
  {
   "cell_type": "code",
   "execution_count": null,
   "metadata": {},
   "outputs": [],
   "source": [
    "merge_times( [(1, 10), (2, 6), (3, 5), (7, 9)] )"
   ]
  },
  {
   "cell_type": "markdown",
   "metadata": {},
   "source": [
    "# Solution\n",
    "## Improvements\n",
    "- `lst.sort()` sorts by x[0] --> `lst.sort(lambda x: x[0])` **less efficient**\n",
    "- `store = [meetings[0]]` avoids unnecessary if statement\n",
    "- `merge_meetings[-1]` and `max(start, last_end)` avoid need to store min and max times"
   ]
  },
  {
   "cell_type": "code",
   "execution_count": null,
   "metadata": {},
   "outputs": [],
   "source": [
    "%%timeit\n",
    "\n",
    "def merge_ranges(meetings):\n",
    "    meetings.sort() # sort by x[0]\n",
    "    merge_meetings = [meetings[0]] # store 1st meeting\n",
    "    \n",
    "    for start, end in meetings[1:]:\n",
    "        last_start, last_end = merge_meetings[-1] # isolate previous meeting block (ie. tuple)\n",
    "        \n",
    "        if start <= last_end:\n",
    "            # if true, current meeting belongs to current meeting block (ie. tuple)\n",
    "            merge_meetings[-1] = (last_start, max(start, last_end)) # take max end time\n",
    "        else:\n",
    "            # start > last_end --> must start new meeting block\n",
    "            merge_meetings.append((start, end)) \n",
    "            \n",
    "    return merge_meetings\n",
    "\n",
    "merge_ranges(meetings)"
   ]
  },
  {
   "cell_type": "code",
   "execution_count": null,
   "metadata": {},
   "outputs": [],
   "source": []
  }
 ],
 "metadata": {
  "kernelspec": {
   "display_name": "Python 3",
   "language": "python",
   "name": "python3"
  },
  "language_info": {
   "codemirror_mode": {
    "name": "ipython",
    "version": 3
   },
   "file_extension": ".py",
   "mimetype": "text/x-python",
   "name": "python",
   "nbconvert_exporter": "python",
   "pygments_lexer": "ipython3",
   "version": "3.7.4"
  }
 },
 "nbformat": 4,
 "nbformat_minor": 2
}
