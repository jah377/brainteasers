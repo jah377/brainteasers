{
 "cells": [
  {
   "cell_type": "markdown",
   "metadata": {},
   "source": [
    "# [OLX Group Challenge](https://app.codility.com/programmers/custom_challenge/olx_group2020/)\n",
    "\n",
    "## Background\n",
    "### Input:\n",
    "**juice** = list of quantities of juice per cup\n",
    "\n",
    "**capacity** = list of capacity of each cup (j units)\n",
    "\n",
    "### Goal:\n",
    "Determine max number of juices that can be mixed without spilling over\n",
    "\n",
    "\n",
    "*Examples:*\n",
    "1. juice = [10, 2, 1, 1] and capacity = [10, 3, 2, 2]\n",
    "    - n = 2; mix cup[2] or cup[3] in cup[1]\n",
    "\n",
    "2. juice = [1, 2, 3, 4] and capacity = [3, 6, 4, 4]\n",
    "    - return 3; mix cup[0]+cup[2] in cup[1]\n",
    "\n",
    "3. Given juice = [2, 3] and capacity = [3, 4]\n",
    "    - return 1; no cups can be mixed without spilling over\n",
    "\n",
    "4. Given juice = [1, 1, 5] and capacity = [6, 5, 8]\n",
    "    - return 3; mix cup[0]+cup[1] in cup[2]\n",
    "\n",
    "### Constraints:\n",
    "N is an integer within the range [2..100,000];\n",
    "each element of arrays juice, capacity is an integer within the range [1..1,000,000,000];\n",
    "arrays juice and capacity have the same length, equal to N;\n",
    "for each J juice[J] ≤ capacity[J]."
   ]
  },
  {
   "cell_type": "code",
   "execution_count": 8,
   "metadata": {},
   "outputs": [],
   "source": [
    "# Input\n",
    "juice = [1,1,5]\n",
    "capacity = [6,5,8]"
   ]
  },
  {
   "cell_type": "markdown",
   "metadata": {},
   "source": [
    "## Solution\n",
    "### Procedure:\n",
    "\n",
    "Determine free space per cup\n",
    "\n",
    "Sort data by size of juice, and free space\n",
    "- In theory, want to mix smallest amounts of juice in cup with most free space\n",
    "\n",
    "Nest for-loop\n",
    "- Iterate through lists, calculate temp n_cups to mix\n",
    "\n",
    "Return max_count"
   ]
  },
  {
   "cell_type": "code",
   "execution_count": 9,
   "metadata": {},
   "outputs": [],
   "source": [
    "def solution(juice, capacity):\n",
    "\n",
    "    data = [ [i, juice[i], c-juice[i]] for i,c in enumerate(capacity)] # nested; idx, juice, free space\n",
    "    sorted_juice = sorted(data, key=lambda x: x[1], reverse=False) # sort by increasing juice amount\n",
    "    sorted_free = sorted(data, key=lambda x: x[2], reverse=True) # sort by decreasing free space\n",
    "\n",
    "    # Nested for-loop \n",
    "    max_count = 1 # number of juices\n",
    "    for i, j, f in sorted_free:\n",
    "        \n",
    "        # index, juice, free space of sorted free space (start big)\n",
    "        temp_count = 1 # temp count of juices at [i]\n",
    "\n",
    "        for ii, jj, ff in sorted_juice:\n",
    "        # index, juice, free space of sorted juices (start small)\n",
    "\n",
    "            # ignore if looking at same index\n",
    "            if i==ii:\n",
    "                continue\n",
    "\n",
    "            temp_free = f-jj # temp free space if add 2nd juice\n",
    "\n",
    "            # if more free space available, save and move on\n",
    "            if temp_free >= 0:\n",
    "                temp_count+=1 # track count\n",
    "                f = temp_free # update free space\n",
    "            else:\n",
    "                break\n",
    "\n",
    "        # if temp_count larger, update count\n",
    "        if temp_count >= max_count:\n",
    "            max_count = temp_count\n",
    "        else:\n",
    "            break\n",
    "\n",
    "    return max_count\n",
    "            "
   ]
  },
  {
   "cell_type": "code",
   "execution_count": 10,
   "metadata": {},
   "outputs": [
    {
     "name": "stdout",
     "output_type": "stream",
     "text": [
      "2.94 µs ± 83.9 ns per loop (mean ± std. dev. of 7 runs, 100000 loops each)\n"
     ]
    }
   ],
   "source": [
    "%%timeit\n",
    "solution(juice, capacity)"
   ]
  }
 ],
 "metadata": {
  "kernelspec": {
   "display_name": "Python 3",
   "language": "python",
   "name": "python3"
  },
  "language_info": {
   "codemirror_mode": {
    "name": "ipython",
    "version": 3
   },
   "file_extension": ".py",
   "mimetype": "text/x-python",
   "name": "python",
   "nbconvert_exporter": "python",
   "pygments_lexer": "ipython3",
   "version": "3.7.4"
  }
 },
 "nbformat": 4,
 "nbformat_minor": 2
}
