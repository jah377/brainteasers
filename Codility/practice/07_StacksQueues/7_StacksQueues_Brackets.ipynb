{
 "cells": [
  {
   "cell_type": "markdown",
   "metadata": {},
   "source": [
    "# [7.1 Brackets](https://app.codility.com/programmers/lessons/7-stacks_and_queues/brackets/)\n",
    "\n",
    "**Given**:\n",
    "- string S --> consists of N characters\n",
    "\n",
    "\n",
    "\n",
    "**Goal**: Determine whether a given string of parentheses (multiple types) is prroperly nested\n",
    "\n",
    "\n",
    "Ex: S = '{[()()]}'\n",
    "- Return 1; complete set of brackets\n",
    "\n",
    "Ex: S = '([)()]'\n",
    "- Return 0; incomplete set of brackets\n",
    "\n",
    "**Conditions**:\n",
    "- N = [0 --> 200,000]\n",
    "- string S consists only of the following characters: \"(\", \"{\", \"[\", \"]\", \"}\" and/or \")\".\n"
   ]
  },
  {
   "cell_type": "code",
   "execution_count": 1,
   "metadata": {},
   "outputs": [],
   "source": [
    "#Input\n",
    "S = '{[()()]}'"
   ]
  },
  {
   "cell_type": "markdown",
   "metadata": {},
   "source": [
    "### My Solution -->  100%\n",
    "- Took too long to solve\n",
    "- Makes use of stack data structure to store open brackets\n"
   ]
  },
  {
   "cell_type": "code",
   "execution_count": 2,
   "metadata": {},
   "outputs": [
    {
     "name": "stdout",
     "output_type": "stream",
     "text": [
      "3.78 µs ± 70.4 ns per loop (mean ± std. dev. of 7 runs, 100000 loops each)\n"
     ]
    }
   ],
   "source": [
    "%%timeit\n",
    "def my_solution(S):\n",
    "    S = list(S)               # convert to list    \n",
    "    open_brack = list('({[')  # list of open brackets\n",
    "    close_brack = list(')}]') # list of closed brackets\n",
    "\n",
    "    store=[] # store open brackets\n",
    "    for i in range(len(S)):\n",
    "\n",
    "        # Must start with open bracket\n",
    "        if len(store)==0 and S[i] in close_brack:\n",
    "            return 0\n",
    "\n",
    "        if S[i] in open_brack:\n",
    "            store.append(S[i]) # store open brackets\n",
    "        else:\n",
    "            # If closed, must match last stored open bracket\n",
    "            if open_brack.index(store[-1]) == close_brack.index(S[i]):\n",
    "                store.pop() # remove last stored bracket if match\n",
    "            else:\n",
    "                return 0 # if no match, must be incomplete bracket\n",
    "    \n",
    "    # If store empty, then must be complete match\n",
    "    if len(store)!=0:\n",
    "        return 0\n",
    "        \n",
    "    return 1\n",
    "\n",
    "my_solution(S)          "
   ]
  },
  {
   "cell_type": "markdown",
   "metadata": {},
   "source": [
    "### Alternative Solution --> Similar approach, but better\n",
    "**Stack Structure**\n",
    "- Items can only be removed at top or bottom\n",
    "- If symbol an open bracket, stack\n",
    "- If symbol closed, stack.pop() must be valid pair with symbol"
   ]
  },
  {
   "cell_type": "code",
   "execution_count": 3,
   "metadata": {},
   "outputs": [
    {
     "name": "stdout",
     "output_type": "stream",
     "text": [
      "3.38 µs ± 69.8 ns per loop (mean ± std. dev. of 7 runs, 100000 loops each)\n"
     ]
    }
   ],
   "source": [
    "%%timeit\n",
    "\n",
    "def isValidPair(left, right):\n",
    "    '''\n",
    "    Determines if two brackets a valid pair\n",
    "    '''\n",
    "    if left == '(' and right == ')':\n",
    "        return True\n",
    "    if left == '[' and right == ']':\n",
    "        return True\n",
    "    if left == '{' and right == '}':\n",
    "        return True\n",
    "    return False\n",
    "\n",
    "def alt_solution(S):\n",
    "    stack = [] # store open brackets\n",
    "    \n",
    "    for symbol in S:\n",
    "        if symbol in list('[({'):\n",
    "            stack.append(symbol) # store open brackets\n",
    "        else:\n",
    "            \n",
    "            # Cannot lead with closed bracket\n",
    "            if len(stack)==0:\n",
    "                return 0\n",
    "            \n",
    "            last = stack.pop() # if symbol closed, isolate last open symbol\n",
    "            \n",
    "            # Determine if valid pair\n",
    "            if not isValidPair(last, symbol):\n",
    "                return 0\n",
    "    \n",
    "    # if stack is empty, string must contain complete brackets\n",
    "    if len(stack)!=0:\n",
    "        return 0\n",
    "    \n",
    "    return 1\n",
    "\n",
    "\n",
    "alt_solution(S)"
   ]
  },
  {
   "cell_type": "code",
   "execution_count": null,
   "metadata": {},
   "outputs": [],
   "source": []
  },
  {
   "cell_type": "code",
   "execution_count": null,
   "metadata": {},
   "outputs": [],
   "source": []
  }
 ],
 "metadata": {
  "kernelspec": {
   "display_name": "Python 3",
   "language": "python",
   "name": "python3"
  },
  "language_info": {
   "codemirror_mode": {
    "name": "ipython",
    "version": 3
   },
   "file_extension": ".py",
   "mimetype": "text/x-python",
   "name": "python",
   "nbconvert_exporter": "python",
   "pygments_lexer": "ipython3",
   "version": "3.7.4"
  }
 },
 "nbformat": 4,
 "nbformat_minor": 2
}
