{
 "cells": [
  {
   "cell_type": "markdown",
   "metadata": {},
   "source": [
    "# [7.2 Fish](https://app.codility.com/programmers/lessons/7-stacks_and_queues/fish/)\n",
    "\n",
    "**Given**:\n",
    "- non-empty array A and B --> N integers\n",
    "    - Array A contains size of fish\n",
    "    - Array B contains direction of fish (0 up, 1 down)\n",
    "\n",
    "**Goal**: Calculate how many fish are alive as N voracious fish are moving along the river\n",
    "- if A[P] > A[Q], then P eats Q, and P will still be flowing downstream\n",
    "- if A[Q] > A[P], then Q eats P, and Q will still be flowing upstreat\n",
    "\n",
    "Ex: A = [4,3,2,1,5]; B = [0,1,0,0,0]\n",
    "- 4 (D), 3(U) = don't meet\n",
    "- 3(U), 2(D) --> 3(U) survives\n",
    "- 3(U), 1(D) --> 3(U) survives\n",
    "- 3(U), 5(D) --> 5(D) survives\n",
    "\n",
    "Fish remain: 4(D) and 5(D); n=2\n",
    "\n",
    "\n",
    "**Conditions**:\n",
    "- N = [1 --> 100,000]\n",
    "- el in A = [0 --> 1e9] *all distinct*\n",
    "- el in B = [0,1]\n",
    "\n",
    "\n"
   ]
  },
  {
   "cell_type": "code",
   "execution_count": 52,
   "metadata": {},
   "outputs": [],
   "source": [
    "#Input\n",
    "A = [4,3,2,1,5]\n",
    "B = [0,1,0,0,0]"
   ]
  },
  {
   "cell_type": "markdown",
   "metadata": {},
   "source": [
    "### My Solution -->  37%\n",
    "- Use stack structure to store surviving fish\n",
    "    - if fish[i] and stack[-1] same direction --> add to stack\n",
    "    - if stack[-1] downstr and fish[i] upstr --> add to stack\n",
    "    - if stack[-1] and fish[i] meet --> adjust stack[-1] based on size\n",
    "\n",
    "- Doesn't account for downstream fish repeatingly fighting upstream fish\n",
    "    - if stack[-1] and fish[i] fight and fish[i] larger...\n",
    "    - ... fish[i] must fight stack[-2], etc etc"
   ]
  },
  {
   "cell_type": "code",
   "execution_count": 37,
   "metadata": {},
   "outputs": [
    {
     "data": {
      "text/plain": [
       "2"
      ]
     },
     "execution_count": 37,
     "metadata": {},
     "output_type": "execute_result"
    }
   ],
   "source": [
    "%%timeit\n",
    "def my_solution(A,B):\n",
    "    \n",
    "    fish = list(zip(A,B)) # combine fish size and direction\n",
    "    stack = []\n",
    "    for i in range(len(A)):\n",
    "\n",
    "        if i==0:\n",
    "            stack.append(fish[i])\n",
    "        else:\n",
    "            last_fish = stack[-1]\n",
    "\n",
    "            if last_fish[1] == fish[i][1]:\n",
    "                stack.append(fish[i])          # if same direction, save fish to stack\n",
    "            elif last_fish[1] < fish[i][1]:\n",
    "                stack.append(fish[i])          # if lastfish (dstr) and fish (upstr), save fish to stack\n",
    "            elif last_fish[0] < fish[i][0]:\n",
    "                stack[-1] == fish[i]           # if lastfish (upstr) and fish (dstr), save largest fish\n",
    "                ### This step is incorrect, must fight all fish in stack that is also heading upstream\n",
    "                \n",
    "    return len(stack)\n",
    "            \n",
    "    \n",
    "my_solution(A,B)"
   ]
  },
  {
   "cell_type": "markdown",
   "metadata": {},
   "source": [
    "### Alternative Solution --> \n",
    "\n",
    "- Store upstream fish in stack\n",
    "    - Downstream fish must attack stack until death or survival"
   ]
  },
  {
   "cell_type": "code",
   "execution_count": 50,
   "metadata": {},
   "outputs": [
    {
     "name": "stdout",
     "output_type": "stream",
     "text": [
      "1.44 µs ± 47.3 ns per loop (mean ± std. dev. of 7 runs, 1000000 loops each)\n"
     ]
    }
   ],
   "source": [
    "%%timeit\n",
    "\n",
    "def alt_solution(A,B):\n",
    "    \n",
    "    survivals = 0                       # n downstream fish that survive\n",
    "    stack = []                          # store surviving upstream fish\n",
    "\n",
    "    for idx in range(len(A)):\n",
    "\n",
    "        # If fish heading upstream --> add to stack\n",
    "        if B[idx]==1:\n",
    "            stack.append(A[idx]) \n",
    "            \n",
    "        else:\n",
    "            \n",
    "            # Downstream fish[i] must fight stack[-1] until it dies or eats entire stack\n",
    "            while len(stack)!=0:\n",
    "\n",
    "                if stack[-1] > A[idx]:\n",
    "                    break               # if stack[-1] larger, will eat fish\n",
    "                else:\n",
    "                    stack.pop()         # if stack[-1] smaller, fish wins to fight next stack[-1]\n",
    "            else:\n",
    "                survivals +=1           # if fish eats entire stack, it survives\n",
    "\n",
    "    survivals += len(stack)             # add remaining upstream fish to surviving downstream fish\n",
    "    \n",
    "    return survivals\n",
    "\n",
    "alt_solution(A,B)"
   ]
  },
  {
   "cell_type": "code",
   "execution_count": null,
   "metadata": {},
   "outputs": [],
   "source": []
  },
  {
   "cell_type": "code",
   "execution_count": null,
   "metadata": {},
   "outputs": [],
   "source": []
  }
 ],
 "metadata": {
  "kernelspec": {
   "display_name": "Python 3",
   "language": "python",
   "name": "python3"
  },
  "language_info": {
   "codemirror_mode": {
    "name": "ipython",
    "version": 3
   },
   "file_extension": ".py",
   "mimetype": "text/x-python",
   "name": "python",
   "nbconvert_exporter": "python",
   "pygments_lexer": "ipython3",
   "version": "3.7.4"
  }
 },
 "nbformat": 4,
 "nbformat_minor": 2
}
