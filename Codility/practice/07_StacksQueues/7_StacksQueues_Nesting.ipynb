{
 "cells": [
  {
   "cell_type": "markdown",
   "metadata": {},
   "source": [
    "# [7.3 Nesting](https://app.codility.com/programmers/lessons/7-stacks_and_queues/nesting/)\n",
    "\n",
    "**Given**:\n",
    "- String S --> N characters\n",
    "\n",
    "**Goal**: Determine whether a given string of  ( ) is properly nested\n",
    "*Properly Nested*\n",
    "- S is empty\n",
    "- S has the form '(U)' where U is a properly nested string\n",
    "- S has form 'VW' where V and W are properly nested strings\n",
    "\n",
    "Ex: S = '( () (()) () )'\n",
    "- Return 1; properly nested\n",
    "\n",
    "Ex: S = '())'\n",
    "- Return 0; not properly nested\n",
    "\n",
    "**Conditions**:\n",
    "- N = [1 --> 1e6]\n",
    "- el in A = '(' and or ')'\n"
   ]
  },
  {
   "cell_type": "code",
   "execution_count": 6,
   "metadata": {},
   "outputs": [],
   "source": [
    "#Input\n",
    "S = '(()(())())'"
   ]
  },
  {
   "cell_type": "markdown",
   "metadata": {},
   "source": [
    "### My Solution -->  100%\n",
    "**Approach**\n",
    "- Count '(' and subtract when ')' observed\n",
    "- counter=0 indicates properly nested string\n",
    "\n",
    "**Areas of Improvement**\n",
    "- S=list(S) not needed --> for char in S separates brackets\n",
    "- if len(S)==0 not needed --> default return 1\n",
    "- Ok to use nested if-else instead of if-elif-elif"
   ]
  },
  {
   "cell_type": "code",
   "execution_count": 7,
   "metadata": {},
   "outputs": [
    {
     "name": "stdout",
     "output_type": "stream",
     "text": [
      "1.32 µs ± 41 ns per loop (mean ± std. dev. of 7 runs, 1000000 loops each)\n"
     ]
    }
   ],
   "source": [
    "%%timeit\n",
    "\n",
    "def my_solution(S):\n",
    "    \n",
    "    S = list(S) # str to list of char\n",
    "\n",
    "    # Empty S is properly nested\n",
    "    if len(S)==0: \n",
    "        return 1\n",
    "    \n",
    "\n",
    "    counter = 0 # count '('\n",
    "    for char in S:\n",
    "        \n",
    "        if counter==0 and char==')':\n",
    "            return 0 # cannot start with ')'\n",
    "        elif char=='(':\n",
    "            counter += 1 # add to '(' counter\n",
    "        elif char==')':\n",
    "            counter -= 1 # subtract from '(' counter\n",
    "\n",
    "\n",
    "    # Empty counter --> properly nested\n",
    "    if counter==0:\n",
    "        return 1\n",
    "\n",
    "    return 0\n",
    "        \n",
    "my_solution(S)      "
   ]
  },
  {
   "cell_type": "markdown",
   "metadata": {},
   "source": [
    "### Alternative Solution -->  FASTER\n",
    "\n",
    "**Similar approach, but more efficient**\n",
    "- S = list(S) is not needed as for-loop separates already\n",
    "- Cleaner code"
   ]
  },
  {
   "cell_type": "code",
   "execution_count": 8,
   "metadata": {},
   "outputs": [
    {
     "name": "stdout",
     "output_type": "stream",
     "text": [
      "787 ns ± 6.93 ns per loop (mean ± std. dev. of 7 runs, 1000000 loops each)\n"
     ]
    }
   ],
   "source": [
    "%%timeit\n",
    "\n",
    "def alt_solution(S):\n",
    "    leftBrackets = 0\n",
    "    \n",
    "    for symbol in S:\n",
    "        if symbol == '(':\n",
    "            leftBrackets += 1\n",
    "        else:\n",
    "            if leftBrackets == 0:\n",
    "                return 0\n",
    "            leftBrackets -= 1\n",
    "            \n",
    "    if leftBrackets != 0:\n",
    "        return 0\n",
    "    \n",
    "    return 1\n",
    " \n",
    "alt_solution(S)"
   ]
  },
  {
   "cell_type": "code",
   "execution_count": null,
   "metadata": {},
   "outputs": [],
   "source": []
  },
  {
   "cell_type": "code",
   "execution_count": null,
   "metadata": {},
   "outputs": [],
   "source": []
  }
 ],
 "metadata": {
  "kernelspec": {
   "display_name": "Python 3",
   "language": "python",
   "name": "python3"
  },
  "language_info": {
   "codemirror_mode": {
    "name": "ipython",
    "version": 3
   },
   "file_extension": ".py",
   "mimetype": "text/x-python",
   "name": "python",
   "nbconvert_exporter": "python",
   "pygments_lexer": "ipython3",
   "version": "3.7.4"
  }
 },
 "nbformat": 4,
 "nbformat_minor": 2
}
