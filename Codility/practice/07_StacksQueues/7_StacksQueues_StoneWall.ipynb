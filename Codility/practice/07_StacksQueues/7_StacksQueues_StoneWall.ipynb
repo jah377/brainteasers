{
 "cells": [
  {
   "cell_type": "markdown",
   "metadata": {},
   "source": [
    "# [7.4 StoneWall](https://app.codility.com/programmers/lessons/7-stacks_and_queues/stone_wall/)\n",
    "\n",
    "**Given**:\n",
    "- Array H of N integers specifying height of the wall\n",
    "\n",
    "**Goal**: Cover 'Manhattan skyline' using the minimum number of rectangles\n",
    "- H[0] = height of wall's left end\n",
    "- H[n-1] = height of wall's right end\n",
    "\n",
    "Ex: H = [8,8,5,7,9,8,7,4,8] (N=9)\n",
    "- Return 7 blocks\n",
    "\n",
    "**Conditions**:\n",
    "- N = [1 --> 100,000]\n",
    "- el in H = [1--> 1e9]\n"
   ]
  },
  {
   "cell_type": "code",
   "execution_count": 5,
   "metadata": {},
   "outputs": [],
   "source": [
    "#Input\n",
    "H = [8,8,5,7,9,8,7,4,8]"
   ]
  },
  {
   "cell_type": "markdown",
   "metadata": {},
   "source": [
    "### My Solution --> 100%\n",
    "**Approach**\n",
    "Storage variables:\n",
    "- stack = list of current block heights (thickness at index)\n",
    "- blocks = add as new blocks formed\n",
    "\n",
    "Steps:\n",
    "- if stone1 shorter than stone2 --> thickness is stone1+stone2\n",
    "- if stone1 taller than stone2 --> thickness is reduced to stone2\n",
    "\n"
   ]
  },
  {
   "cell_type": "code",
   "execution_count": 62,
   "metadata": {},
   "outputs": [
    {
     "name": "stdout",
     "output_type": "stream",
     "text": [
      "4.8 µs ± 75.4 ns per loop (mean ± std. dev. of 7 runs, 100000 loops each)\n"
     ]
    }
   ],
   "source": [
    "%%timeit\n",
    "\n",
    "def my_solution(H):   \n",
    "    stack = [] # store block heights\n",
    "    block = 0  # total number of blocks\n",
    "    \n",
    "    for i in range(len(H)):\n",
    "        \n",
    "        # Add new block height to stack if height larger\n",
    "        if len(stack)==0 or H[i]>stack[-1]:\n",
    "            stack.append(H[i])\n",
    "            block +=1\n",
    "            \n",
    "        # Adjust stack if new block height less than previous\n",
    "        if H[i] < stack[-1]:\n",
    "            \n",
    "            #Must remove blocks until H[i]>=stack[-1]\n",
    "            while len(stack)>0 and H[i]<stack[-1]:\n",
    "                stack.pop()\n",
    "                \n",
    "            # Now must add new block height to stack if height larger\n",
    "            if len(stack)==0 or H[i]>stack[-1]:\n",
    "                stack.append(H[i])\n",
    "                block += 1\n",
    "                \n",
    "    return block\n",
    "\n",
    "\n",
    "my_solution(H)\n",
    "    "
   ]
  },
  {
   "cell_type": "markdown",
   "metadata": {},
   "source": [
    "### Alternative Solution -->  FASTER, simplier\n",
    "- Steps streamlined\n"
   ]
  },
  {
   "cell_type": "code",
   "execution_count": 63,
   "metadata": {},
   "outputs": [
    {
     "name": "stdout",
     "output_type": "stream",
     "text": [
      "3.65 µs ± 48.9 ns per loop (mean ± std. dev. of 7 runs, 100000 loops each)\n"
     ]
    }
   ],
   "source": [
    "%%timeit\n",
    "\n",
    "def alt_solution(H):\n",
    "    stack = []\n",
    "    blocks = 0\n",
    "    \n",
    "    for height in H:\n",
    "        # Remove all blocks that are bigger than current height\n",
    "        while len(stack)!=0 and stack[-1]>height:\n",
    "            stack.pop()\n",
    "            \n",
    "        if len(stack)!=0 and stack[-1]==height:\n",
    "            pass #already accounted for block\n",
    "        else:\n",
    "            blocks += 1\n",
    "            stack.append(height)\n",
    "            \n",
    "    return blocks\n",
    "\n",
    "alt_solution(H)\n"
   ]
  },
  {
   "cell_type": "code",
   "execution_count": null,
   "metadata": {},
   "outputs": [],
   "source": []
  },
  {
   "cell_type": "code",
   "execution_count": null,
   "metadata": {},
   "outputs": [],
   "source": []
  }
 ],
 "metadata": {
  "kernelspec": {
   "display_name": "Python 3",
   "language": "python",
   "name": "python3"
  },
  "language_info": {
   "codemirror_mode": {
    "name": "ipython",
    "version": 3
   },
   "file_extension": ".py",
   "mimetype": "text/x-python",
   "name": "python",
   "nbconvert_exporter": "python",
   "pygments_lexer": "ipython3",
   "version": "3.7.4"
  }
 },
 "nbformat": 4,
 "nbformat_minor": 2
}
