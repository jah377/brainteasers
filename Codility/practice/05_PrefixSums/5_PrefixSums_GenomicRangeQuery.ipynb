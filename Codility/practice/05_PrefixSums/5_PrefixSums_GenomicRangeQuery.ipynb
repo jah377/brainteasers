{
 "cells": [
  {
   "cell_type": "markdown",
   "metadata": {},
   "source": [
    "# [5.2 GenomicRangeQuery](https://app.codility.com/programmers/lessons/5-prefix_sums/genomic_range_query/)\n",
    "\n",
    "**Goal**: Find the minimal nucleotide from a range of sequence DNA\n",
    "- ACGT impact factor = 1,2,3,4\n",
    "- array S --> non-empty\n",
    "- array P & Q --> len=M\n",
    "- The kth query requires you to find hte min impact factor of nucleotides contained in DNA sequence positions P[k] and Q[k]\n",
    "\n",
    "**What is the minimal impact factor for nucleotides contained in a particular part of the given DNA sequence?**\n",
    "\n",
    "\n",
    "Ex: S=CAGCCTA; P=[2,5,0]; Q=[4,5,6]; M=3\n",
    "- \n"
   ]
  },
  {
   "cell_type": "code",
   "execution_count": 1,
   "metadata": {},
   "outputs": [],
   "source": [
    "# Input\n",
    "S = 'CAGCCTA'\n",
    "P = [2,5,0]\n",
    "Q = [4,5,6]"
   ]
  },
  {
   "cell_type": "markdown",
   "metadata": {},
   "source": [
    "### My Solution1 --> Too Slow (2x for-loops)\n",
    "- for-loop to identify subsequence of DNA\n",
    "- for-loop to find min impact value within subsequence"
   ]
  },
  {
   "cell_type": "code",
   "execution_count": 3,
   "metadata": {
    "scrolled": true
   },
   "outputs": [
    {
     "name": "stdout",
     "output_type": "stream",
     "text": [
      "4.1 µs ± 41.7 ns per loop (mean ± std. dev. of 7 runs, 100000 loops each)\n"
     ]
    }
   ],
   "source": [
    "%%timeit\n",
    "\n",
    "def my_solution1(S,P,Q):\n",
    "    val_store = ['A','C','G','T'] # impact_value = list.index(nuc)+1\n",
    "    impact = [0]*len(P)           # store min impact_value per subsequence\n",
    "\n",
    "    for i in range(len(P)):\n",
    "        seq = S[ P[i]:Q[i]+1 ]    # DNA sequence to be analyzed\n",
    "        impact[i] = min([val_store.index(s)+1 for s in list(seq)]) #min impact per sequence\n",
    "\n",
    "    return impact   \n",
    "    \n",
    "my_solution1(S,P,Q)\n"
   ]
  },
  {
   "cell_type": "markdown",
   "metadata": {},
   "source": [
    "### My Solution2 --> FAST\n",
    "- for-loop to identify subsequence of DNA\n",
    "- Sub-function uses nested if-statement to return min. impact value per sequence\n"
   ]
  },
  {
   "cell_type": "code",
   "execution_count": 8,
   "metadata": {},
   "outputs": [
    {
     "name": "stdout",
     "output_type": "stream",
     "text": [
      "1.37 µs ± 45 ns per loop (mean ± std. dev. of 7 runs, 1000000 loops each)\n"
     ]
    }
   ],
   "source": [
    "%%timeit\n",
    "\n",
    "def min_impact(seq):\n",
    "    if 'A' in seq: return 1\n",
    "    elif 'C' in seq: return 2\n",
    "    elif 'G' in seq: return 3\n",
    "    return 4\n",
    "\n",
    "def my_solution2(S,P,Q):\n",
    "\n",
    "    impact = [0]*len(P)             # store min impact_value per subsequence\n",
    "\n",
    "    for i in range(len(P)):\n",
    "        seq = S[ P[i]:Q[i]+1 ]      # DNA sequence to be analyzed\n",
    "        impact[i] = min_impact(seq) # call subfunction\n",
    "        \n",
    "    return impact\n",
    "\n",
    "my_solution2(S,P,Q)\n"
   ]
  },
  {
   "cell_type": "code",
   "execution_count": null,
   "metadata": {},
   "outputs": [],
   "source": []
  }
 ],
 "metadata": {
  "kernelspec": {
   "display_name": "Python 3",
   "language": "python",
   "name": "python3"
  },
  "language_info": {
   "codemirror_mode": {
    "name": "ipython",
    "version": 3
   },
   "file_extension": ".py",
   "mimetype": "text/x-python",
   "name": "python",
   "nbconvert_exporter": "python",
   "pygments_lexer": "ipython3",
   "version": "3.7.4"
  }
 },
 "nbformat": 4,
 "nbformat_minor": 2
}
