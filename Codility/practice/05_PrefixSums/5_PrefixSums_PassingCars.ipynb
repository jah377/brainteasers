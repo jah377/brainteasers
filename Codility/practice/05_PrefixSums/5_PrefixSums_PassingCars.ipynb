{
 "cells": [
  {
   "cell_type": "markdown",
   "metadata": {},
   "source": [
    "# [5.4 PassingCars](https://app.codility.com/programmers/lessons/5-prefix_sums/passing_cars/)\n",
    "\n",
    "**Given**:\n",
    "- array A --> non-empty, N integers long\n",
    "- consecutive el of array A represent consecutive cars on a road\n",
    "- Contains 0s (cars traveling east) and 1 (cars traveling west)\n",
    "\n",
    "**Goal**: Count the number of passing cars on the road\n",
    "- Pair of cars (P,Q), where 0<=P<Q<N\n",
    "- P traveling east, Q is traveling west\n",
    "- Return -1 if n pairs of passing cars exceeds 1e9\n",
    "\n",
    "Ex: A=[0,1,0,1,1]\n",
    "- (P=0,Q=1) --> pair\n",
    "- (P=0,Q=3) --> pair\n",
    "- (P=0,Q=4) --> pair\n",
    "- (P=2,Q=3) --> pair\n",
    "- (P=2,Q=4) --> pair \n",
    "\n",
    "**Conditions**:\n",
    "- N = [1 --> 100000]\n",
    "- el in A an integer either [0,1]"
   ]
  },
  {
   "cell_type": "markdown",
   "metadata": {},
   "source": [
    "### My Solution -->  100%\n",
    "**No need for nested for-loop**\n",
    "- Keep track of cars traveling in same direction\n",
    "- Ex: A=[0,1,0,1,1]\n",
    "    - mult=1\n",
    "    - i=1 --> (P=0,Q=1) = 0+mult*1 = 1\n",
    "    - i=2 --> same as i=0 so mult+=1 = 2\n",
    "    - i=3 --> (P=0,Q=1) + (P=0,Q=3)AND(P=2,Q=3) = 1 + mult*1 = 3\n",
    "    - i=4 --> (P=0,Q=1) + (P=0,Q=3)AND(P=2,Q=3) + (P=0,Q=4)AND(P=2,Q=4) = 3 + mult*1 = 5"
   ]
  },
  {
   "cell_type": "code",
   "execution_count": 1,
   "metadata": {},
   "outputs": [],
   "source": [
    "#Input\n",
    "A = [0,1,0,1,1]\n"
   ]
  },
  {
   "cell_type": "code",
   "execution_count": 2,
   "metadata": {},
   "outputs": [
    {
     "name": "stdout",
     "output_type": "stream",
     "text": [
      "807 ns ± 3.3 ns per loop (mean ± std. dev. of 7 runs, 1000000 loops each)\n"
     ]
    }
   ],
   "source": [
    "%%timeit\n",
    "\n",
    "def my_solution(A):\n",
    "    store = 0        # store number of passing cars\n",
    "    nEast = 0        # must count cars heading west AFTER a car is heading eat\n",
    "    \n",
    "    for idx in range(0,len(A)):\n",
    "        \n",
    "        if A[idx]==0:\n",
    "            nEast += 1 # count n cars in same direction as 1st car\n",
    "        else: \n",
    "            store += nEast # add adjusted n cars to store\n",
    "            \n",
    "        if store > 1000000000:\n",
    "            return -1\n",
    "        \n",
    "    return store\n",
    "    \n",
    "    \n",
    "my_solution(A)    "
   ]
  },
  {
   "cell_type": "markdown",
   "metadata": {},
   "source": [
    "### Alternative Solution --> FASTER, simplier code\n",
    "- Similar approach, much simplier code"
   ]
  },
  {
   "cell_type": "code",
   "execution_count": 3,
   "metadata": {},
   "outputs": [
    {
     "name": "stdout",
     "output_type": "stream",
     "text": [
      "486 ns ± 6 ns per loop (mean ± std. dev. of 7 runs, 1000000 loops each)\n"
     ]
    }
   ],
   "source": [
    "%%timeit\n",
    "\n",
    "def alt_solution(A):\n",
    "    \n",
    "    count = 0                # n cars traveling East\n",
    "    pairs = 0                # pairs of passing cars\n",
    "    \n",
    "    for value in A:\n",
    "        if value == 0:\n",
    "            count += 1       # if car heading east --> add to count\n",
    "        if value == 1:\n",
    "            pairs += count   # if car heading west --> adjust count by count of cars heading east\n",
    "            \n",
    "    if pairs > 1000000000:\n",
    "        return -1\n",
    "    \n",
    "    return pairs\n",
    "\n",
    "alt_solution(A)"
   ]
  },
  {
   "cell_type": "code",
   "execution_count": null,
   "metadata": {},
   "outputs": [],
   "source": []
  }
 ],
 "metadata": {
  "kernelspec": {
   "display_name": "Python 3",
   "language": "python",
   "name": "python3"
  },
  "language_info": {
   "codemirror_mode": {
    "name": "ipython",
    "version": 3
   },
   "file_extension": ".py",
   "mimetype": "text/x-python",
   "name": "python",
   "nbconvert_exporter": "python",
   "pygments_lexer": "ipython3",
   "version": "3.7.4"
  }
 },
 "nbformat": 4,
 "nbformat_minor": 2
}
