{
 "cells": [
  {
   "cell_type": "markdown",
   "metadata": {},
   "source": [
    "# [5.1 CountDiv](https://app.codility.com/programmers/lessons/5-prefix_sums/count_div/)\n",
    "\n",
    "**Goal**: Compute number of integers divisible by k in range [a,b]\n",
    "- A<= i <= B such that i mod K = 0\n",
    "\n",
    "\n",
    "Ex: A,B,K = [6,11,2]\n",
    "- n=3 --> [6,8,10]\n"
   ]
  },
  {
   "cell_type": "code",
   "execution_count": 113,
   "metadata": {},
   "outputs": [],
   "source": [
    "# Input\n",
    "A,B,K = [6,11,2]"
   ]
  },
  {
   "cell_type": "markdown",
   "metadata": {},
   "source": [
    "### My Solution\n",
    "- floor division (X//k) = number of whole integers k in X \n",
    "- B//K = n k-int in B\n",
    "- A//K = n k-int in A\n",
    "- diff = B//K - A//K\n",
    "- if A%K=0 --> must add to diff\n"
   ]
  },
  {
   "cell_type": "code",
   "execution_count": 116,
   "metadata": {},
   "outputs": [
    {
     "data": {
      "text/plain": [
       "3"
      ]
     },
     "execution_count": 116,
     "metadata": {},
     "output_type": "execute_result"
    }
   ],
   "source": [
    "def my_solution(A,B,K): \n",
    "    \n",
    "    mod_B = B//K      # n k-integers in B\n",
    "    mod_A = A//K      # n k-integers in A\n",
    "    \n",
    "    n = mod_B - mod_A # n k-integers between A and B\n",
    "\n",
    "    if A%K==0:\n",
    "        n+=1          # if A mod K = 0, must add to n\n",
    "    \n",
    "    return n\n",
    "\n",
    "my_solution(A,B,K)"
   ]
  }
 ],
 "metadata": {
  "kernelspec": {
   "display_name": "Python 3",
   "language": "python",
   "name": "python3"
  },
  "language_info": {
   "codemirror_mode": {
    "name": "ipython",
    "version": 3
   },
   "file_extension": ".py",
   "mimetype": "text/x-python",
   "name": "python",
   "nbconvert_exporter": "python",
   "pygments_lexer": "ipython3",
   "version": "3.7.4"
  }
 },
 "nbformat": 4,
 "nbformat_minor": 2
}
