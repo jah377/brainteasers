{
 "cells": [
  {
   "cell_type": "markdown",
   "metadata": {},
   "source": [
    "# [5.3 MinAvgTwoSlice](https://app.codility.com/programmers/lessons/5-prefix_sums/min_avg_two_slice/)\n",
    "\n",
    "**Given**:\n",
    "- array A --> non-empty, N integers long\n",
    "- P and Q --> int such that slice 0<=P<Q<N\n",
    "\n",
    "**Goal**: Find the starting position of a slice whose average is minimal\n",
    "- Avg of slice (P,Q) = sum(A[P] + A[P+1] .. + A[Q]) / (Q-P+1)\n",
    "\n",
    "Ex: A=[4,2,2,5,1,5,8]\n",
    "- slice(1,2) = (2+2)/2 = 2\n",
    "- slice(3,4) = (5+1)/2 = 3\n",
    "- slice(1,4) = (2+2+5+1)/4 = 2.5\n",
    "\n",
    "**Conditions**:\n",
    "- N = [2 --> 100000]\n",
    "- el in A an integer between [-10000 --> 10000]"
   ]
  },
  {
   "cell_type": "markdown",
   "metadata": {},
   "source": [
    "### My Solution --> SLOW\n",
    "- Nested for-loop very slow\n",
    "- "
   ]
  },
  {
   "cell_type": "code",
   "execution_count": 97,
   "metadata": {},
   "outputs": [],
   "source": [
    "#Input\n",
    "A = [-3, -5, -8, -4, -10]"
   ]
  },
  {
   "cell_type": "code",
   "execution_count": 96,
   "metadata": {},
   "outputs": [
    {
     "name": "stdout",
     "output_type": "stream",
     "text": [
      "4.5 µs ± 32.3 ns per loop (mean ± std. dev. of 7 runs, 100000 loops each)\n"
     ]
    }
   ],
   "source": [
    "%%timeit\n",
    "\n",
    "def my_solution(A):\n",
    "    P = range(0, len(A))\n",
    "    min_i = 0\n",
    "    min_avg = 100000000\n",
    "\n",
    "    for i in P:\n",
    "        for j in range(i+2, len(A)+1):\n",
    "            slice_ = A[i:j]\n",
    "            slice_avg = sum(slice_)/(j-i)\n",
    "\n",
    "            if slice_avg < min_avg:\n",
    "                min_i = i\n",
    "                min_avg = slice_avg\n",
    "\n",
    "    return min_i\n",
    "\n",
    "my_solution(A)"
   ]
  },
  {
   "cell_type": "markdown",
   "metadata": {},
   "source": [
    "### Alternative Solution --> FAST, based on assumption\n",
    "**Logic**:\n",
    "- Assumption --> Every slice must be size 2 or 3\n",
    "- Slices of bigger sizes are created from smaller slices\n",
    "- Bigger slice has optimal value if all sub-slices also do\n"
   ]
  },
  {
   "cell_type": "code",
   "execution_count": 106,
   "metadata": {},
   "outputs": [
    {
     "name": "stdout",
     "output_type": "stream",
     "text": [
      "-4.0 [-3, -5]\n",
      "-5.3 [-3, -5, -8]\n",
      "-5.0 [-3, -5, -8, -4]\n",
      "-6.0 [-3, -5, -8, -4, -10]\n",
      "-6.5 [-5, -8]\n",
      "-5.7 [-5, -8, -4]\n",
      "-6.8 [-5, -8, -4, -10]\n",
      "-6.0 [-8, -4]\n",
      "-7.3 [-8, -4, -10]\n",
      "-7.0 [-4, -10]\n",
      "\n",
      "Avg drops from [-3, -5, -8, -4] to [-3, -5, -8, -4, -10]\n",
      "because [-8, -4, -10] avg smaller than previous segment\n"
     ]
    }
   ],
   "source": [
    "# Assumption: Min avg slice must be 2-3 in length\n",
    "for i in P:\n",
    "    for j in range(i+2, len(A)+1):\n",
    "        slice_ = A[i:j]\n",
    "        slice_avg = sum(slice_)/(j-i)\n",
    "\n",
    "        print(round(slice_avg,1), slice_)\n",
    "\n",
    "        \n",
    "print('\\nAvg drops from [-3, -5, -8, -4] to [-3, -5, -8, -4, -10]\\nbecause [-8, -4, -10] avg smaller than previous segment')\n"
   ]
  },
  {
   "cell_type": "code",
   "execution_count": 99,
   "metadata": {},
   "outputs": [
    {
     "name": "stdout",
     "output_type": "stream",
     "text": [
      "2.93 µs ± 33.3 ns per loop (mean ± std. dev. of 7 runs, 100000 loops each)\n"
     ]
    }
   ],
   "source": [
    "%%timeit\n",
    "\n",
    "def alt_solution(A):\n",
    "    min_idx = 0\n",
    "    min_avg = 100000000\n",
    "\n",
    "    for idx in range(0, len(A)-1):\n",
    "\n",
    "        if sum(A[idx:idx+1])/2 < min_avg:\n",
    "            min_idx = idx\n",
    "            min_avg = sum(A[idx:idx+1])/2\n",
    "\n",
    "        if (idx < len(A)-2):\n",
    "            if sum(A[idx:idx+2])/3 < min_avg:\n",
    "                min_idx = idx\n",
    "                min_avg = sum(A[idx:idx+2])/3\n",
    "            \n",
    "    return min_idx\n",
    "        \n",
    "alt_solution(A)"
   ]
  }
 ],
 "metadata": {
  "kernelspec": {
   "display_name": "Python 3",
   "language": "python",
   "name": "python3"
  },
  "language_info": {
   "codemirror_mode": {
    "name": "ipython",
    "version": 3
   },
   "file_extension": ".py",
   "mimetype": "text/x-python",
   "name": "python",
   "nbconvert_exporter": "python",
   "pygments_lexer": "ipython3",
   "version": "3.7.4"
  }
 },
 "nbformat": 4,
 "nbformat_minor": 2
}
