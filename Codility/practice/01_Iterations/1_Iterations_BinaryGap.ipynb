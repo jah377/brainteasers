{
 "cells": [
  {
   "cell_type": "markdown",
   "metadata": {},
   "source": [
    "# [1.1 BinaryGap](https://app.codility.com/programmers/lessons/1-iterations/binary_gap/)\n",
    "\n",
    "**Goal**: Given pos. int. N, return length of longest binary gap (n of 0s surrounded by 1s)\n",
    "- Ex: 1001 --> binary gap of 2\n",
    "- Ex: 10100 --> binary gap of 1"
   ]
  },
  {
   "cell_type": "code",
   "execution_count": 2,
   "metadata": {},
   "outputs": [],
   "source": [
    "import random\n",
    "\n",
    "N = random.randint(1, 2147483647) # input"
   ]
  },
  {
   "cell_type": "markdown",
   "metadata": {},
   "source": [
    "### My Solution\n",
    "- Too slow! \n",
    "- Uses for-loop to identify indices of 1s\n",
    "- Uses another for-loop to cal gap between indices"
   ]
  },
  {
   "cell_type": "code",
   "execution_count": 4,
   "metadata": {},
   "outputs": [
    {
     "name": "stdout",
     "output_type": "stream",
     "text": [
      "3.86 µs ± 58.7 ns per loop (mean ± std. dev. of 7 runs, 100000 loops each)\n"
     ]
    }
   ],
   "source": [
    "%%timeit\n",
    "\n",
    "def my_solution(N):\n",
    "    x = '{0:b}'.format(N)                         # convert 20002 --> '11111010010' <str>\n",
    "    idx = [i for i in range(len(x)) if x[i]=='1'] # isolate indices of 1s --> [0, 3, 4, 5, 9, 13]\n",
    "    max_gap=0                                     # store max gap\n",
    "    \n",
    "    if len(idx)>1:                                # must have 2+ 1s for gap to exist\n",
    "        for i in range(1,len(idx)):\n",
    "            gap = (idx[i]-1) - idx[i-1]           # calc gap between indices; if idx=5 and 3, gap=1 (not two)\n",
    "            \n",
    "            if gap>max_gap:                       # if gap>max_gap --> store as max_gap\n",
    "                max_gap = gap \n",
    "\n",
    "    return max_gap\n",
    "\n",
    "my_solution(N)"
   ]
  },
  {
   "cell_type": "markdown",
   "metadata": {},
   "source": [
    "### Alternative Solution\n",
    "- Faster\n",
    "- Splits strings on 1s --> no need to ID indices of 1s\n",
    "- Just count len of strings split on 1s"
   ]
  },
  {
   "cell_type": "code",
   "execution_count": 5,
   "metadata": {},
   "outputs": [
    {
     "name": "stdout",
     "output_type": "stream",
     "text": [
      "2.15 µs ± 38.9 ns per loop (mean ± std. dev. of 7 runs, 100000 loops each)\n"
     ]
    }
   ],
   "source": [
    "%%timeit\n",
    "\n",
    "def alt_solution(N):\n",
    "    bin_n = '{0:b}'.format(N)        # convert 20002 --> '11111010010' <str>\n",
    "    bin_n = bin_n.strip('0')         # strip outter zeros --> '1111101001'\n",
    "    lst_bin = bin_n.split('1')       # split at 1s --> ['', '', '', '', '', '0', '00', '']\n",
    "    gaps = [len(i) for i in lst_bin] # len of str segments (ie gaps)\n",
    "    max_gap = max(gaps)\n",
    "    return max_gap\n",
    "\n",
    "alt_solution(N)"
   ]
  },
  {
   "cell_type": "code",
   "execution_count": null,
   "metadata": {},
   "outputs": [],
   "source": []
  }
 ],
 "metadata": {
  "kernelspec": {
   "display_name": "Python 3",
   "language": "python",
   "name": "python3"
  },
  "language_info": {
   "codemirror_mode": {
    "name": "ipython",
    "version": 3
   },
   "file_extension": ".py",
   "mimetype": "text/x-python",
   "name": "python",
   "nbconvert_exporter": "python",
   "pygments_lexer": "ipython3",
   "version": "3.7.4"
  }
 },
 "nbformat": 4,
 "nbformat_minor": 2
}
