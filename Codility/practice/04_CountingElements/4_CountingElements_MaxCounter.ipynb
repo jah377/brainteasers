{
 "cells": [
  {
   "cell_type": "markdown",
   "metadata": {},
   "source": [
    "# [4.2 MaxCounter](https://app.codility.com/programmers/lessons/4-counting_elements/max_counters/)\n",
    "\n",
    "**Background**: Given N counters (set to 0). Two possible operations: \n",
    "1. increase counter by 1\n",
    "2. Set all counter to max val of any counter.\n",
    "    - if A[k] = X, such that 1<= X <= N, operation K is increase(X)\n",
    "    - if A[k]=N+1, then operation k is max counter\n",
    "\n",
    "**Goal**: Given an integer N, and a non-empty array A consisting of M integers, return a sequence of integers representing the values of the counters.\n",
    "- N and M integers are within range [1 --> 1e5]\n",
    "- el of A within range [1 --> N+1]\n",
    "\n",
    "Ex: N=5, A=[3,4,4,6,1,4,4]\n",
    "- A[0] = 3 --> (0,0,1,0,0)\n",
    "- A[0] = 4 --> (0,0,1,1,0)\n",
    "- A[0] = 4 --> (0,0,1,2,0)\n",
    "- A[0] = 6 --> (2,2,2,2,2)\n",
    "- A[0] = 1 --> (3,2,2,2,2)\n",
    "- A[0] = 4 --> (3,2,2,3,2)\n",
    "- A[0] = 4 --> (3,2,2,4,2)"
   ]
  },
  {
   "cell_type": "code",
   "execution_count": 9,
   "metadata": {},
   "outputs": [
    {
     "name": "stdout",
     "output_type": "stream",
     "text": [
      "73436 93074 52772 93074\n"
     ]
    }
   ],
   "source": [
    "import random\n",
    "\n",
    "# Input\n",
    "r_ = [*range(1,100000)]\n",
    "N = random.sample(r_,1)[0]  # size of counter\n",
    "M = random.sample(r_,1)[0]  # size of array A\n",
    "A = random.choices([*range(1,N+2)], k=M)\n",
    "\n",
    "print(N, M, len(set(A)), len(A))"
   ]
  },
  {
   "cell_type": "markdown",
   "metadata": {},
   "source": [
    "### My Solution --> 82% performance, timeout error\n",
    "- TOO SLOW\n",
    "- Repeatedly iterates over array to determine max"
   ]
  },
  {
   "cell_type": "code",
   "execution_count": 10,
   "metadata": {},
   "outputs": [
    {
     "name": "stdout",
     "output_type": "stream",
     "text": [
      "19.3 ms ± 564 µs per loop (mean ± std. dev. of 7 runs, 100 loops each)\n"
     ]
    }
   ],
   "source": [
    "%%timeit\n",
    "\n",
    "def my_solution(N,A):\n",
    "\n",
    "    counters = [0]*N # array of n counters\n",
    "\n",
    "    for val in A:\n",
    "        if val<N+1:\n",
    "            counters[val-1] += 1        # increase counter + 1\n",
    "        else:\n",
    "            counters = [max(counter)]*N # update all counters to max\n",
    "\n",
    "my_solution(N,A)"
   ]
  },
  {
   "cell_type": "markdown",
   "metadata": {},
   "source": [
    "### Alternative Solution --> FASTER\n",
    "- Avoids iterating over array repeatedly\n",
    "- If previous counter==N+1, update counter on next pass\n",
    "    - Only need to keep track of what the max_counter is, and how much to add to next counter\n",
    "    \n",
    "**Unsure why alt_solution slower in Notebook, but faster on Codility module**"
   ]
  },
  {
   "cell_type": "code",
   "execution_count": 11,
   "metadata": {},
   "outputs": [
    {
     "name": "stdout",
     "output_type": "stream",
     "text": [
      "36.1 ms ± 368 µs per loop (mean ± std. dev. of 7 runs, 10 loops each)\n"
     ]
    }
   ],
   "source": [
    "%%timeit\n",
    "\n",
    "def alt_solution(N,A):\n",
    "    counter = [0]*N  # store counter\n",
    "    current_max = 0  # store max counts \n",
    "    update_val = 0   # max val to be added if val==N+1 previously triggered\n",
    "\n",
    "    for val in A:\n",
    "        if val<N+1:\n",
    "            idx = val-1 # counter index\n",
    "\n",
    "            # Update counter from previous iteration\n",
    "            # if previous val==N+1, must set counter to max\n",
    "            if counter[idx] < update_val:\n",
    "                counter[idx] = update_val \n",
    "\n",
    "            # Since val<N+1, increase counter regardless\n",
    "            counter[idx] += 1 # increase counter\n",
    "\n",
    "            # Must update current max if appropriate\n",
    "            if counter[idx] > current_max:\n",
    "                current_max = counter[idx]\n",
    "\n",
    "        elif val == N+1:\n",
    "            # set update val to be added during next iteration\n",
    "            update_val = current_max\n",
    "\n",
    "\n",
    "    # Must update array to account for last iteration in for-loop\n",
    "    for idx in range(N):\n",
    "        if counter[idx] < update_val:\n",
    "            counter[idx] = update_val\n",
    "            \n",
    "    return counter\n",
    "        \n",
    "alt_solution(N,A)      "
   ]
  },
  {
   "cell_type": "code",
   "execution_count": null,
   "metadata": {},
   "outputs": [],
   "source": []
  }
 ],
 "metadata": {
  "kernelspec": {
   "display_name": "Python 3",
   "language": "python",
   "name": "python3"
  },
  "language_info": {
   "codemirror_mode": {
    "name": "ipython",
    "version": 3
   },
   "file_extension": ".py",
   "mimetype": "text/x-python",
   "name": "python",
   "nbconvert_exporter": "python",
   "pygments_lexer": "ipython3",
   "version": "3.7.4"
  }
 },
 "nbformat": 4,
 "nbformat_minor": 2
}
