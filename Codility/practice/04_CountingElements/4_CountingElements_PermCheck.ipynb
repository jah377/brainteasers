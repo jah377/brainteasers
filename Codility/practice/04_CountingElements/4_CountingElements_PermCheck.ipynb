{
 "cells": [
  {
   "cell_type": "markdown",
   "metadata": {},
   "source": [
    "# [4.4 PermCheck](https://app.codility.com/programmers/lessons/4-counting_elements/perm_check/)\n",
    "\n",
    "**Goal**: Determine if non-empty array A, consisting of N integers, contains a permutation\n",
    "- permutation = sequence containing each element 1-N once, and only once\n",
    "\n",
    "Ex: [4,1,3,2]\n",
    "- Return 1 (is permutation)\n",
    "Ex: [4,2,3]\n",
    "- Return 0 (is NOT permutation)\n"
   ]
  },
  {
   "cell_type": "code",
   "execution_count": 33,
   "metadata": {},
   "outputs": [
    {
     "name": "stdout",
     "output_type": "stream",
     "text": [
      "52448 1 52448\n"
     ]
    }
   ],
   "source": [
    "import random\n",
    "\n",
    "# Input\n",
    "N = random.sample([*range(1,100000)],1)[0]  # size of array\n",
    "A = [*range(1,N+1)]\n",
    "\n",
    "isPerm = random.sample([0,1], 1)[0]\n",
    "if not isPerm:\n",
    "    val_del = random.sample([*range(1,N+1)],1)[0]\n",
    "    A.remove(val_del)\n",
    "    \n",
    "print(N, isPerm, len(A))"
   ]
  },
  {
   "cell_type": "markdown",
   "metadata": {},
   "source": [
    "### My Solution\n",
    "**Solution 1 --> SLOW**\n",
    "- Use traditional counter\n",
    "- Counter cannot have >1 occurences of an el\n",
    "- Counter must be all 1s\n",
    "\n",
    "**Solution 2 --> FAST**\n",
    "- Use set.difference(set)\n",
    "- if A=perm --> A = range(1,len(A)+1)"
   ]
  },
  {
   "cell_type": "code",
   "execution_count": 34,
   "metadata": {},
   "outputs": [
    {
     "name": "stdout",
     "output_type": "stream",
     "text": [
      "8.86 ms ± 505 µs per loop (mean ± std. dev. of 7 runs, 100 loops each)\n"
     ]
    }
   ],
   "source": [
    "%%timeit\n",
    "\n",
    "def my_solution1(A):\n",
    "    n_el = len(A)\n",
    "    counter = [0]*n_el\n",
    "\n",
    "    for el in A:\n",
    "        try: \n",
    "            # Use try because el may be > than len(A)\n",
    "            counter[el-1] += 1\n",
    "\n",
    "            # Permutation can only contain 1 copy of the number\n",
    "            if counter[el-1]>1:\n",
    "                return 0\n",
    "        except:\n",
    "            # if val outside counter, is not a permutation\n",
    "            return 0\n",
    "\n",
    "    if not all(counter):\n",
    "        return 0\n",
    "    \n",
    "    return 1\n",
    "    \n",
    "my_solution1(A)\n"
   ]
  },
  {
   "cell_type": "code",
   "execution_count": 35,
   "metadata": {},
   "outputs": [
    {
     "name": "stdout",
     "output_type": "stream",
     "text": [
      "3.3 ms ± 38.7 µs per loop (mean ± std. dev. of 7 runs, 100 loops each)\n"
     ]
    }
   ],
   "source": [
    "%%timeit\n",
    "\n",
    "def my_solution2(A):\n",
    "    n_el = len(A)\n",
    "    perm = [*range(1,len(A)+1)]\n",
    "    diff = set(perm).difference(set(A))\n",
    "\n",
    "    if len(diff)==0:\n",
    "        return 1\n",
    "    \n",
    "    return 0\n",
    "\n",
    "my_solution2(A)\n"
   ]
  },
  {
   "cell_type": "markdown",
   "metadata": {},
   "source": [
    "### Alternative Solution\n",
    "- Similar to my_solution1\n",
    "- Smarter --> avoids try-except by including in if-statement"
   ]
  },
  {
   "cell_type": "code",
   "execution_count": 36,
   "metadata": {},
   "outputs": [
    {
     "name": "stdout",
     "output_type": "stream",
     "text": [
      "11.6 ms ± 798 µs per loop (mean ± std. dev. of 7 runs, 100 loops each)\n"
     ]
    }
   ],
   "source": [
    "%%timeit\n",
    "\n",
    "def alt_solution(A):\n",
    "    seen = [False] * len(A)        # counter\n",
    " \n",
    "    for value in A:\n",
    "        if 0 <= value > len(A):\n",
    "            return 0               # instead of try-except\n",
    "        if seen[value-1] == True:\n",
    "            return 0               # val can only occur once\n",
    "        \n",
    "        seen[value-1] = True\n",
    " \n",
    "    return 1 #all(seen) redundant --> cant occur if above conditions met\n",
    "\n",
    "alt_solution(A)"
   ]
  }
 ],
 "metadata": {
  "kernelspec": {
   "display_name": "Python 3",
   "language": "python",
   "name": "python3"
  },
  "language_info": {
   "codemirror_mode": {
    "name": "ipython",
    "version": 3
   },
   "file_extension": ".py",
   "mimetype": "text/x-python",
   "name": "python",
   "nbconvert_exporter": "python",
   "pygments_lexer": "ipython3",
   "version": "3.7.4"
  }
 },
 "nbformat": 4,
 "nbformat_minor": 2
}
