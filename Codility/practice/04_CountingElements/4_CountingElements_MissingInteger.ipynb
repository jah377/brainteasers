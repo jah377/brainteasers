{
 "cells": [
  {
   "cell_type": "markdown",
   "metadata": {},
   "source": [
    "# [4.3 MaxCounter](https://app.codility.com/programmers/lessons/4-counting_elements/missing_integer/)\n",
    "\n",
    "**Goal**: Given an array A of N integers, return the smallest positive integer that does not occur in A\n",
    "\n",
    "Ex: [1,3,6,4,1,2]\n",
    "- Return 5\n",
    "Ex: [1,2,3]\n",
    "- Return 4\n",
    "Ex: [-1, 3]\n",
    "- Return 1"
   ]
  },
  {
   "cell_type": "code",
   "execution_count": 99,
   "metadata": {},
   "outputs": [
    {
     "name": "stdout",
     "output_type": "stream",
     "text": [
      "-999827 999750 9904\n"
     ]
    }
   ],
   "source": [
    "import random\n",
    "\n",
    "# Input\n",
    "N = random.sample([*range(1,100000)],1)[0]  # size of array\n",
    "A = random.choices([*range(-1000000,1000000)], k=N) # array\n",
    "\n",
    "print(min(A), max(A), len(A))"
   ]
  },
  {
   "cell_type": "markdown",
   "metadata": {},
   "source": [
    "### My Solution"
   ]
  },
  {
   "cell_type": "code",
   "execution_count": 100,
   "metadata": {},
   "outputs": [],
   "source": [
    "def my_solution(A):\n",
    "    \n",
    "    max_val = max(A) # find largest value\n",
    "\n",
    "    if max_val<1:\n",
    "        return 1  # if all values negative, return 1\n",
    "    else: \n",
    "        store = [False]*max_val                #create counter\n",
    "\n",
    "        for val in A:\n",
    "            if val>0 and store[val-1]==False:\n",
    "                store[val-1] = True            # update counter\n",
    "\n",
    "        try:\n",
    "            min_missing = store.index(False)+1 # find idx of 1st missing, if it exists\n",
    "        except:\n",
    "            min_missing = max_val + 1          # no false values --> missing val is max_val+1\n",
    "    \n",
    "        return min_missing\n"
   ]
  },
  {
   "cell_type": "code",
   "execution_count": 101,
   "metadata": {},
   "outputs": [
    {
     "name": "stdout",
     "output_type": "stream",
     "text": [
      "6.37 ms ± 240 µs per loop (mean ± std. dev. of 7 runs, 100 loops each)\n"
     ]
    }
   ],
   "source": [
    "%%timeit\n",
    "my_solution(A)\n"
   ]
  },
  {
   "cell_type": "markdown",
   "metadata": {},
   "source": [
    "### Alternative Solution 1 --> Faster\n",
    "- Truncates counter == len(A)\n",
    "    - Avoids needing to know max value of A\n",
    "    - if A contains no missing values, len(A) MUST contain max(A)\n",
    "- Updates truncated counter if value positive AND within counter range\n",
    "- Returns idx of 1st False counter value (thus missing value)\n",
    "    - even if all values <0 --> would still return 1\n",
    "    - if no missing values in counter --> min missing value = len(A)+1"
   ]
  },
  {
   "cell_type": "code",
   "execution_count": 102,
   "metadata": {},
   "outputs": [],
   "source": [
    "def alt_solution1(A):\n",
    "    \n",
    "    # Create counter\n",
    "    arr_len = len(A)\n",
    "    counter = [False] * arr_len     # create truncated counter\n",
    "    \n",
    "    # Update counter if val + and within counter range\n",
    "    for value in A:\n",
    "        if 0 < value <= arr_len:\n",
    "            counter[value-1] = True \n",
    " \n",
    "    # Find 1st False counter value\n",
    "    for idx in range(len(counter)):\n",
    "        if counter[idx] == False: \n",
    "            return idx + 1           # if A all <0, would still return 1\n",
    " \n",
    "    return arr_len+1                 # assumes max value same as array_length \n"
   ]
  },
  {
   "cell_type": "code",
   "execution_count": 103,
   "metadata": {},
   "outputs": [
    {
     "name": "stdout",
     "output_type": "stream",
     "text": [
      "673 µs ± 33.5 µs per loop (mean ± std. dev. of 7 runs, 1000 loops each)\n"
     ]
    }
   ],
   "source": [
    "%%timeit\n",
    "alt_solution(A)"
   ]
  },
  {
   "cell_type": "markdown",
   "metadata": {},
   "source": [
    "### Alternative Solution 2 --> Faster\n",
    "- Use set().difference().pop() to isolate smallest missing value\n",
    "    - Ex: A=[9997, 9998, 9999], len(A)=3\n",
    "        - z = list(range(1,len(A)+3) = [1,2,3]\n",
    "        - diff = set(z).difference(set(A)) = [1,2,3]    # values in Z but not in A\n",
    "        - diff.pop() = 1\n"
   ]
  },
  {
   "cell_type": "code",
   "execution_count": 104,
   "metadata": {},
   "outputs": [],
   "source": [
    "def alt_solution2(A):\n",
    "    z = list(range(1,len(A)+1)) \n",
    "    try:\n",
    "        result = set(z).difference(set(A)).pop()\n",
    "    except:\n",
    "        result = max(A)+1\n",
    "    return result"
   ]
  },
  {
   "cell_type": "code",
   "execution_count": 105,
   "metadata": {},
   "outputs": [
    {
     "name": "stdout",
     "output_type": "stream",
     "text": [
      "1.15 ms ± 21.7 µs per loop (mean ± std. dev. of 7 runs, 1000 loops each)\n"
     ]
    }
   ],
   "source": [
    "%%timeit\n",
    "alt_solution2(A)"
   ]
  },
  {
   "cell_type": "code",
   "execution_count": null,
   "metadata": {},
   "outputs": [],
   "source": []
  }
 ],
 "metadata": {
  "kernelspec": {
   "display_name": "Python 3",
   "language": "python",
   "name": "python3"
  },
  "language_info": {
   "codemirror_mode": {
    "name": "ipython",
    "version": 3
   },
   "file_extension": ".py",
   "mimetype": "text/x-python",
   "name": "python",
   "nbconvert_exporter": "python",
   "pygments_lexer": "ipython3",
   "version": "3.7.4"
  }
 },
 "nbformat": 4,
 "nbformat_minor": 2
}
