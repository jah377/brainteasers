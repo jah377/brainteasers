{
 "cells": [
  {
   "cell_type": "markdown",
   "metadata": {},
   "source": [
    "# [4.1 FrogRiverOne](https://app.codility.com/programmers/lessons/4-counting_elements/frog_river_one/)\n",
    "\n",
    "**Background**: Frog located at bank of river (pos 0) and wants to get to the opposite bank (pos X+1). Array A, of N integers, represent falling leaves. A[K] represents pos where one leaf falls at a time K, measured in seconds.\n",
    "\n",
    "**Goal**: Find earliest time when frog can jump to other side of river. If frog cant jump to other side, return -1.\n",
    "- N and X integers are within range [1 --> 1e6]\n",
    "- el of A within range [1 --> X]\n",
    "\n",
    "Ex: A=[1,3,1,4,2,3,5,4], X=5\n",
    "- 1-5 occurs in A[6] --> 6 seconds"
   ]
  },
  {
   "cell_type": "code",
   "execution_count": 2,
   "metadata": {},
   "outputs": [],
   "source": [
    "# Input\n",
    "A = [1,3,1,4,2,3,5,4]\n",
    "X = 5"
   ]
  },
  {
   "cell_type": "markdown",
   "metadata": {},
   "source": [
    "### My Solution --> 82% performance, timeout error"
   ]
  },
  {
   "cell_type": "code",
   "execution_count": 3,
   "metadata": {},
   "outputs": [
    {
     "name": "stdout",
     "output_type": "stream",
     "text": [
      "1.43 µs ± 26.9 ns per loop (mean ± std. dev. of 7 runs, 1000000 loops each)\n"
     ]
    }
   ],
   "source": [
    "%%timeit\n",
    "def my_solution(X,A):\n",
    "    \n",
    "    store = [False]*X # store positions where leaves fall\n",
    "    sec = -1          # default counter\n",
    "\n",
    "    for i in range(len(A)):\n",
    "        store[A[i]-1] = True\n",
    "\n",
    "        if all(store):     # all(store) slow if store very large\n",
    "            sec = i\n",
    "            return sec\n",
    "            \n",
    "    return sec\n",
    "      \n",
    "my_solution(X,A)"
   ]
  },
  {
   "cell_type": "markdown",
   "metadata": {},
   "source": [
    "### Alternative Solution\n",
    "- Avoids repeated iteration over store array\n",
    "- At start, you know n of uncovered positions\n",
    "    - Just update n if uncovered position gets covered"
   ]
  },
  {
   "cell_type": "code",
   "execution_count": 4,
   "metadata": {},
   "outputs": [
    {
     "name": "stdout",
     "output_type": "stream",
     "text": [
      "1.31 µs ± 3.75 ns per loop (mean ± std. dev. of 7 runs, 1000000 loops each)\n"
     ]
    }
   ],
   "source": [
    "%%timeit\n",
    "\n",
    "def alt_solution(X,A):\n",
    "    covered=[False]*X # stored pos covered by leaves\n",
    "    uncovered = X     # track n uncovered pos \n",
    "    \n",
    "    for i in range(len(A)):\n",
    "        if covered[A[i]-1] == False:\n",
    "            covered[A[i]-1] == True   # only update if False (save time)\n",
    "            uncovered -= 1            # one less pos uncovered\n",
    "            \n",
    "        if uncovered == 0:\n",
    "            return i                  # all pos covered by leaves\n",
    "        \n",
    "    return -1                         # if for-loop complete, spot MUST be uncovered \n",
    "    \n",
    "alt_solution(X,A) "
   ]
  },
  {
   "cell_type": "code",
   "execution_count": null,
   "metadata": {},
   "outputs": [],
   "source": []
  }
 ],
 "metadata": {
  "kernelspec": {
   "display_name": "Python 3",
   "language": "python",
   "name": "python3"
  },
  "language_info": {
   "codemirror_mode": {
    "name": "ipython",
    "version": 3
   },
   "file_extension": ".py",
   "mimetype": "text/x-python",
   "name": "python",
   "nbconvert_exporter": "python",
   "pygments_lexer": "ipython3",
   "version": "3.7.4"
  }
 },
 "nbformat": 4,
 "nbformat_minor": 2
}
