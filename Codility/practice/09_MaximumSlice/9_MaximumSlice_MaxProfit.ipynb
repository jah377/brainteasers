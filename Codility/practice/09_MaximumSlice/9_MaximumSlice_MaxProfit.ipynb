{
 "cells": [
  {
   "cell_type": "markdown",
   "metadata": {},
   "source": [
    "# [9.2 Max Profit](https://app.codility.com/programmers/lessons/9-maximum_slice_problem/max_profit/)\n",
    "\n",
    "**Given**:\n",
    "- Array A of N integers\n",
    "- Contains daily prices of a stock share for period of N consecutive days\n",
    "- Profit = A[Q] - A[P]; where 0 <= P <= Q < N\n",
    "\n",
    "**Goal**: Find maximal profit\n",
    "\n",
    "Ex: A = [23171, 21011, 21123, 21366, 21013, 21367]\n",
    "- A[2] - A[0] = -2048\n",
    "- A[5] - A[4] = 354\n",
    "\n",
    "\n",
    "**Conditions**:\n",
    "- N = [0 --> 100,000]\n",
    "- el in A = [0 --> 200,000]\n"
   ]
  },
  {
   "cell_type": "code",
   "execution_count": 54,
   "metadata": {},
   "outputs": [
    {
     "data": {
      "text/plain": [
       "[18, 6, 9, 17, 18, 2, 16, 4, 6, 14]"
      ]
     },
     "execution_count": 54,
     "metadata": {},
     "output_type": "execute_result"
    }
   ],
   "source": [
    "# Input\n",
    "import numpy as np\n",
    "\n",
    "A = list(np.random.randint(20, size=10))\n"
   ]
  },
  {
   "cell_type": "markdown",
   "metadata": {},
   "source": [
    "## My Solution --> 66% O(N^2)\n",
    "\n",
    "Nested loop inefficient"
   ]
  },
  {
   "cell_type": "code",
   "execution_count": 62,
   "metadata": {},
   "outputs": [],
   "source": [
    "def solution(A):\n",
    "    if len(A)==0:\n",
    "        return 0\n",
    "\n",
    "    N = len(A)\n",
    "\n",
    "    profit = 0\n",
    "    for i in range(0,N-1):\n",
    "\n",
    "        temp_profit = 0\n",
    "        for ii in range(i+1,N):\n",
    "            \n",
    "            diff = A[ii]-A[i] # difference\n",
    "\n",
    "            if diff>temp_profit:\n",
    "                temp_profit = diff # update temp profit\n",
    "\n",
    "        if temp_profit>profit:\n",
    "            profit=temp_profit # update profit\n",
    "        \n",
    "       \n",
    "    return profit\n"
   ]
  },
  {
   "cell_type": "code",
   "execution_count": 63,
   "metadata": {},
   "outputs": [
    {
     "name": "stdout",
     "output_type": "stream",
     "text": [
      "14.7 µs ± 341 ns per loop (mean ± std. dev. of 7 runs, 100000 loops each)\n"
     ]
    }
   ],
   "source": [
    "%%timeit\n",
    "\n",
    "solution(A)"
   ]
  },
  {
   "cell_type": "markdown",
   "metadata": {},
   "source": [
    "## Alternative Solution --> 100% O(N)\n",
    "- Iterate through A\n",
    "- Store temp profit\n",
    "- Store minimum buy price\n",
    "- Store temp profit if > profit"
   ]
  },
  {
   "cell_type": "code",
   "execution_count": 59,
   "metadata": {},
   "outputs": [],
   "source": [
    "def alt_solution(A):\n",
    "    if len(A)<2:\n",
    "        return 0\n",
    "\n",
    "    profit = 0      # stored profit\n",
    "    temp_profit = 0 # temp profit\n",
    "    minBuy = A[0]   # minimum starting point\n",
    "    N = len(A)\n",
    "\n",
    "    for i in range(N):\n",
    "        temp_profit = max(0,A[i]-minBuy)  # iteration profit\n",
    "        minBuy = min(minBuy,A[i])         # store minimum start price\n",
    "        profit = max(profit, temp_profit) # if temp larger, keep\n",
    "\n",
    "    return profit"
   ]
  },
  {
   "cell_type": "code",
   "execution_count": 60,
   "metadata": {},
   "outputs": [
    {
     "name": "stdout",
     "output_type": "stream",
     "text": [
      "8.05 µs ± 130 ns per loop (mean ± std. dev. of 7 runs, 100000 loops each)\n"
     ]
    }
   ],
   "source": [
    "%%timeit\n",
    "\n",
    "alt_solution(A)"
   ]
  }
 ],
 "metadata": {
  "kernelspec": {
   "display_name": "Python 3",
   "language": "python",
   "name": "python3"
  },
  "language_info": {
   "codemirror_mode": {
    "name": "ipython",
    "version": 3
   },
   "file_extension": ".py",
   "mimetype": "text/x-python",
   "name": "python",
   "nbconvert_exporter": "python",
   "pygments_lexer": "ipython3",
   "version": "3.7.4"
  }
 },
 "nbformat": 4,
 "nbformat_minor": 2
}
