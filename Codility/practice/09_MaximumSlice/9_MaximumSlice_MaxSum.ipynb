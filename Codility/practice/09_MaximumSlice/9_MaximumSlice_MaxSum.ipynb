{
 "cells": [
  {
   "cell_type": "markdown",
   "metadata": {},
   "source": [
    "# [9.2 Max Sum](https://app.codility.com/programmers/lessons/9-maximum_slice_problem/max_slice_sum/)\n",
    "\n",
    "**Given**:\n",
    "- Array A of N integers\n",
    "- Slice of A is A[P:Q], given 0<=P<=Q<N\n",
    "\n",
    "\n",
    "**Goal**: Find maximum sum of any slice\n",
    "\n",
    "Ex: A = [3,1,2,-6,4,0]\n",
    "- A[3,4] = 4\n",
    "- A[2,2] = -6\n",
    "- A[0,1] = 5\n",
    "\n",
    "\n",
    "**Conditions**:\n",
    "- N = [1 --> 100,000]\n",
    "- el in A = [-1e6 --> 1e6]\n"
   ]
  },
  {
   "cell_type": "code",
   "execution_count": 60,
   "metadata": {},
   "outputs": [
    {
     "name": "stdout",
     "output_type": "stream",
     "text": [
      "[11, 1, 12, 26, 26, 25, -13, 28, -11, 35]\n"
     ]
    }
   ],
   "source": [
    "# Input\n",
    "import numpy as np\n",
    "import random\n",
    "\n",
    "N = 10\n",
    "A = list(np.random.randint(low=-50, high=50, size=N))\n",
    "\n",
    "print(A)"
   ]
  },
  {
   "cell_type": "markdown",
   "metadata": {},
   "source": [
    "## Solution 1 --> 53% O(N)\n",
    "**Attempt**\n",
    "- Iterate through array\n",
    "- Calculate cum_sum if cum_sum > 0, else start at 0\n",
    "- Store cum_sum if > max_sum through iteration\n",
    "\n",
    "**Incorrect answers**\n",
    "- max sum could be negative, like [-10]"
   ]
  },
  {
   "cell_type": "code",
   "execution_count": 61,
   "metadata": {},
   "outputs": [
    {
     "data": {
      "text/plain": [
       "140"
      ]
     },
     "execution_count": 61,
     "metadata": {},
     "output_type": "execute_result"
    }
   ],
   "source": [
    "def solution1(A):\n",
    "    max_sum = 0  # store max sum\n",
    "    temp_sum = 0 # initiate temp sum\n",
    "    \n",
    "    for val in A:\n",
    "\n",
    "        # Rolling sum if cum_sum > 0, else start over\n",
    "        if temp_sum+val > 0:\n",
    "            temp_sum = temp_sum+val # continue adding to sum\n",
    "        else:\n",
    "            temp_sum = 0 # must start over\n",
    "\n",
    "        # Store temp_sum if larger\n",
    "        if temp_sum > max_sum:\n",
    "            max_sum = temp_sum\n",
    "        \n",
    "    return max_sum\n",
    "\n",
    "solution1(A)"
   ]
  },
  {
   "cell_type": "markdown",
   "metadata": {},
   "source": [
    "## Solution 2 --> 100% O(N)\n",
    "\n",
    "**Incorrect answers**\n",
    "- if max_sum<0, max_sum=positive int, like [-2, 1]"
   ]
  },
  {
   "cell_type": "code",
   "execution_count": 62,
   "metadata": {},
   "outputs": [
    {
     "data": {
      "text/plain": [
       "140"
      ]
     },
     "execution_count": 62,
     "metadata": {},
     "output_type": "execute_result"
    }
   ],
   "source": [
    "def solution2(A):\n",
    "    max_sum = -100000000  # store max sum\n",
    "    temp_sum = -100000000 # initiate temp sum\n",
    "    \n",
    "    for val in A:\n",
    "\n",
    "        # Rolling sum if cum_sum > temp, else start over\n",
    "        if temp_sum+val > val:\n",
    "            temp_sum = temp_sum+val # continue adding to sum\n",
    "        else:\n",
    "            temp_sum = val          # start over at integer\n",
    "\n",
    "        # Store temp_sum if larger\n",
    "        if temp_sum > max_sum:\n",
    "            max_sum = temp_sum\n",
    "        \n",
    "    return max_sum\n",
    "\n",
    "solution2(A)"
   ]
  },
  {
   "cell_type": "markdown",
   "metadata": {},
   "source": [
    "## Alternative Solution --> 100% O(N)\n",
    "\n",
    "Code more simple"
   ]
  },
  {
   "cell_type": "code",
   "execution_count": 63,
   "metadata": {},
   "outputs": [
    {
     "data": {
      "text/plain": [
       "140"
      ]
     },
     "execution_count": 63,
     "metadata": {},
     "output_type": "execute_result"
    }
   ],
   "source": [
    "def alt_solution(A):\n",
    "    max_sum = temp_sum = -1000000\n",
    "    \n",
    "    for val in A:\n",
    "        temp_sum = max(val,temp_sum+val) # if temp<0, start over\n",
    "        max_sum = max(max_sum, temp_sum) # if temp>max, keep\n",
    "        \n",
    "    return max_sum\n",
    "\n",
    "alt_solution(A)\n"
   ]
  },
  {
   "cell_type": "markdown",
   "metadata": {},
   "source": [
    "## Compare Efficiency"
   ]
  },
  {
   "cell_type": "code",
   "execution_count": 66,
   "metadata": {},
   "outputs": [
    {
     "name": "stdout",
     "output_type": "stream",
     "text": [
      "3.08 µs ± 38.2 ns per loop (mean ± std. dev. of 7 runs, 100000 loops each)\n"
     ]
    }
   ],
   "source": [
    "%%timeit\n",
    "solution2(A)"
   ]
  },
  {
   "cell_type": "code",
   "execution_count": 67,
   "metadata": {},
   "outputs": [
    {
     "name": "stdout",
     "output_type": "stream",
     "text": [
      "4.8 µs ± 313 ns per loop (mean ± std. dev. of 7 runs, 100000 loops each)\n"
     ]
    }
   ],
   "source": [
    "%%timeit\n",
    "\n",
    "alt_solution(A)\n"
   ]
  }
 ],
 "metadata": {
  "kernelspec": {
   "display_name": "Python 3",
   "language": "python",
   "name": "python3"
  },
  "language_info": {
   "codemirror_mode": {
    "name": "ipython",
    "version": 3
   },
   "file_extension": ".py",
   "mimetype": "text/x-python",
   "name": "python",
   "nbconvert_exporter": "python",
   "pygments_lexer": "ipython3",
   "version": "3.7.4"
  }
 },
 "nbformat": 4,
 "nbformat_minor": 2
}
