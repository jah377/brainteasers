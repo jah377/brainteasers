{
 "cells": [
  {
   "cell_type": "markdown",
   "metadata": {},
   "source": [
    "# [9.1 MaxDoubleSliceSum](https://app.codility.com/programmers/lessons/9-maximum_slice_problem/max_double_slice_sum/)\n",
    "\n",
    "**Given**:\n",
    "- Array A of N integers\n",
    "- 'double slice' = triplet (X,Y,Z) such that 0<=X<Y<Z<N\n",
    "\n",
    "Sum of double slice (X,Y,Z)\n",
    "A[x+1:y] + A[y+1:z]\n",
    "\n",
    "**Goal**: Find the maximal sum of any double slice\n",
    "\n",
    "Ex: A = [3,2,6,-1,4,5,-1,2]\n",
    "- (0,3,6) = [2+6] + [4+5] = 17\n",
    "- (0,3,7) = [2+6] + [4+5+-1] = 16\n",
    "- (3,4,5) = [empty] + [empty] + [empty] = 0\n",
    "\n",
    "\n",
    "**Conditions**:\n",
    "- N = [3 --> 100,000]\n",
    "- el in H = [−1e5 --> 1e5]\n"
   ]
  },
  {
   "cell_type": "code",
   "execution_count": 40,
   "metadata": {},
   "outputs": [],
   "source": [
    "#Input\n",
    "A = [3,2,6,-5,4,5,-1,2]\n"
   ]
  },
  {
   "cell_type": "markdown",
   "metadata": {},
   "source": [
    "**Maximum Slice Problem**\n",
    "\n",
    "Task: Find slice with largest sum\n",
    "- Find indices p, q such that Ap -> Aq is maximal\n",
    "\n",
    "Approach:\n",
    "- Assume max slice sum in i = max_ending\n",
    "- if max slice at i+1 = max(0, max_ending+ai+1)\n",
    "\n",
    "Result:\n",
    "\n",
    "sum[3,2,6] = 11\n",
    "\n",
    "sum[3,2,6,-1,4,5] = 19\n",
    "\n",
    "sum[3,2,6,-1,4,5,-1,2] = 20 *max sum*"
   ]
  },
  {
   "cell_type": "code",
   "execution_count": 41,
   "metadata": {},
   "outputs": [
    {
     "name": "stdout",
     "output_type": "stream",
     "text": [
      "3 3 3\n",
      "2 5 5\n",
      "6 11 11\n",
      "-5 6 11\n",
      "4 10 11\n",
      "5 15 15\n",
      "-1 14 15\n",
      "2 16 16\n"
     ]
    }
   ],
   "source": [
    "# Maximum Slice problem\n",
    "\n",
    "max_ending = 0 # store sum at position\n",
    "max_slice = 0  # update slice sum if larger\n",
    "\n",
    "for i,a in enumerate(A):\n",
    "    max_ending = max(0, max_ending+A[i])    \n",
    "    max_slice = max(max_slice, max_ending)  # update or keep same\n",
    "    print(a, max_ending, max_slice)\n",
    "\n"
   ]
  },
  {
   "cell_type": "markdown",
   "metadata": {},
   "source": [
    "### My Solution --> DIDN'T SOLVE"
   ]
  },
  {
   "cell_type": "code",
   "execution_count": 72,
   "metadata": {},
   "outputs": [],
   "source": [
    "# n = len(A)\n",
    "# min_val = 0\n",
    "# max_ending = 0\n",
    "# max_slice = 0\n",
    "\n",
    "# for i in range(1,n):\n",
    "#     max_ending = max(0, max_ending+A[i])\n",
    "    \n",
    "#     #Store minimial value to subtract from max_slice\n",
    "#     if (max_ending!=0) and (A[i]<min_val):\n",
    "#         min_val = A[i]\n",
    "        \n",
    "#     max_slice = max(max_slice, max_ending) #Update/Keep current sum\n",
    "#     print(i, A[i], max_ending, max_slice)\n",
    "    \n"
   ]
  },
  {
   "cell_type": "markdown",
   "metadata": {},
   "source": [
    "### Alternative Solution --> 100%\n",
    "Can ignore A[0] and A[N-1] by definition\n",
    "- double slice (X,Y,X) such that 0<= X<Y<Z <N\n",
    "\n",
    "Can apply Kadane's algorithm from two direction:\n",
    "- K1[i] = max sum contiguous seq. *ending* at i\n",
    "- K2[i] = max sum contiguous seq. *starting* at i\n",
    "\n",
    "Must find K1[i-1]+K2[i+1]\n",
    "\n",
    "Ex: A = [3,2,6,-1,4,5,-1,2]\n",
    "K1[i-1] = [2,6]\n",
    "K2[i+1] = [4,5]"
   ]
  },
  {
   "cell_type": "code",
   "execution_count": 73,
   "metadata": {},
   "outputs": [
    {
     "name": "stdout",
     "output_type": "stream",
     "text": [
      "3 17\n"
     ]
    }
   ],
   "source": [
    "A = [3,2,6,-1,4,5,-1,2]\n",
    "\n",
    "N = len(A)\n",
    "K1 = [0] * N\n",
    "K2 = [0] * N\n",
    "max_double_slice = 0\n",
    "\n",
    "# Calculate contiguous sum ending at i\n",
    "for i in range(1, N-1):\n",
    "    K1[i] = max(0, K1[i-1]+A[i])\n",
    "    \n",
    "# Calculate continguous sum starting at i\n",
    "for i in reversed(range(N-1)):\n",
    "    K2[i] = max(0,K2[i+1]+A[i])\n",
    "    \n",
    "# Determine max sum of continuous slices ending and starting at i\n",
    "store_i = 0\n",
    "for i in range(1,N-1):\n",
    "    current = K1[i-1]+K2[i+1]\n",
    "    \n",
    "    if current > max_double_slice:\n",
    "        store_i = i\n",
    "        max_double_slice = current\n",
    "\n",
    "    \n",
    "\n",
    "print(store_i, max_double_slice)\n",
    "\n"
   ]
  }
 ],
 "metadata": {
  "kernelspec": {
   "display_name": "Python 3",
   "language": "python",
   "name": "python3"
  },
  "language_info": {
   "codemirror_mode": {
    "name": "ipython",
    "version": 3
   },
   "file_extension": ".py",
   "mimetype": "text/x-python",
   "name": "python",
   "nbconvert_exporter": "python",
   "pygments_lexer": "ipython3",
   "version": "3.7.4"
  }
 },
 "nbformat": 4,
 "nbformat_minor": 2
}
