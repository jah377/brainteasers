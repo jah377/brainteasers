{
 "cells": [
  {
   "cell_type": "markdown",
   "metadata": {},
   "source": [
    "# [3.1 Frogjmp](https://app.codility.com/programmers/lessons/3-time_complexity/frog_jmp/)\n",
    "\n",
    "**Goal**: A frog is located as position X and wants to get to a position >= Y, jumping a fixed distance D. Count the minimum numbers of jumps needed to reach target.\n",
    "- X,Y,D are integers [1-1e9]\n",
    "- X <= Y\n"
   ]
  },
  {
   "cell_type": "code",
   "execution_count": 4,
   "metadata": {},
   "outputs": [],
   "source": [
    "# Input\n",
    "X = 10 # start position\n",
    "Y = 85 # end position\n",
    "D = 30 # distance traveled per jump\n"
   ]
  },
  {
   "cell_type": "markdown",
   "metadata": {},
   "source": [
    "### My Solution --> FAST\n",
    "- Calc distance to travel\n",
    "- Calc floor division (whole jumps)\n",
    "- Add jump if distance remains"
   ]
  },
  {
   "cell_type": "code",
   "execution_count": 5,
   "metadata": {},
   "outputs": [
    {
     "name": "stdout",
     "output_type": "stream",
     "text": [
      "238 ns ± 2.98 ns per loop (mean ± std. dev. of 7 runs, 1000000 loops each)\n"
     ]
    }
   ],
   "source": [
    "%%timeit\n",
    "\n",
    "def my_solution(X, Y, D):\n",
    "    \n",
    "    dist = (Y-X)      # dist to travel\n",
    "    n_jumps = dist//D # whole jumps\n",
    "    remain = dist%D   # remaining dist to travel\n",
    "    \n",
    "    if remain:\n",
    "        n_jumps+=1    # +1 to cover remaining dist\n",
    "        \n",
    "    return n_jumps\n",
    "\n",
    "    \n",
    "my_solution(X,Y,D)  \n"
   ]
  },
  {
   "cell_type": "code",
   "execution_count": null,
   "metadata": {},
   "outputs": [],
   "source": []
  }
 ],
 "metadata": {
  "kernelspec": {
   "display_name": "Python 3",
   "language": "python",
   "name": "python3"
  },
  "language_info": {
   "codemirror_mode": {
    "name": "ipython",
    "version": 3
   },
   "file_extension": ".py",
   "mimetype": "text/x-python",
   "name": "python",
   "nbconvert_exporter": "python",
   "pygments_lexer": "ipython3",
   "version": "3.7.4"
  }
 },
 "nbformat": 4,
 "nbformat_minor": 2
}
