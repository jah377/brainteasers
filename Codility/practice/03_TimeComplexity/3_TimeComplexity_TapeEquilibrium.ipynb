{
 "cells": [
  {
   "cell_type": "markdown",
   "metadata": {},
   "source": [
    "# [3.3 TapeEquilibrium](https://app.codility.com/programmers/lessons/3-time_complexity/tape_equilibrium/)\n",
    "\n",
    "**Goal**: A non-empty array of N integers represents numbers on a tape. An integer P, splits tape into two non-empty parts. What is the minimum absolute difference that can be achieved.\n",
    "- N integers is within range [2 --> 1e5]\n",
    "- el of A within range [-1e3 --> 1e3]\n",
    "- P is within range [0 < P < N]\n",
    "\n",
    "Ex: [3,1,2,4,3]\n",
    "- P=1 --> |sum(3) - sum(1,2,4,3)| = 7\n",
    "- P=2 --> |sum(3,1) - sum(2,4,3)| = 7\n",
    "- P=3 --> |sum(3,2,1) - sum(4,3)| = 7\n",
    "- P=4 --> |sum(3,2,1,4) - sum(3)| = 7\n"
   ]
  },
  {
   "cell_type": "code",
   "execution_count": 2,
   "metadata": {},
   "outputs": [],
   "source": [
    "# Input\n",
    "A = [3,1,2,4,3]\n"
   ]
  },
  {
   "cell_type": "markdown",
   "metadata": {},
   "source": [
    "### My Solution --> FAST"
   ]
  },
  {
   "cell_type": "code",
   "execution_count": 8,
   "metadata": {},
   "outputs": [],
   "source": [
    "def my_solution(A):\n",
    "    front = A[0]         # initial front split\n",
    "    end = sum(A[1:])     # initial back split\n",
    "    ans = abs(front-end) # initial abs. diff. \n",
    "    \n",
    "    for i in range(1, len(A)-1):\n",
    "        front += A[i]            # update sum(front split)\n",
    "        end -= A[i]              # update sum(back split)\n",
    "        abs_sum = abs(front-end) # update abs. diff.\n",
    "\n",
    "        if abs_sum<ans:\n",
    "            ans = abs_sum        # store min. abs. diff.\n",
    "        \n",
    "    return ans\n"
   ]
  },
  {
   "cell_type": "code",
   "execution_count": 7,
   "metadata": {},
   "outputs": [
    {
     "name": "stdout",
     "output_type": "stream",
     "text": [
      "1.07 µs ± 14.4 ns per loop (mean ± std. dev. of 7 runs, 1000000 loops each)\n"
     ]
    }
   ],
   "source": [
    "%%timeit\n",
    "\n",
    "my_solution(A)"
   ]
  },
  {
   "cell_type": "code",
   "execution_count": null,
   "metadata": {},
   "outputs": [],
   "source": []
  }
 ],
 "metadata": {
  "kernelspec": {
   "display_name": "Python 3",
   "language": "python",
   "name": "python3"
  },
  "language_info": {
   "codemirror_mode": {
    "name": "ipython",
    "version": 3
   },
   "file_extension": ".py",
   "mimetype": "text/x-python",
   "name": "python",
   "nbconvert_exporter": "python",
   "pygments_lexer": "ipython3",
   "version": "3.7.4"
  }
 },
 "nbformat": 4,
 "nbformat_minor": 2
}
