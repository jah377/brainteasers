{
 "cells": [
  {
   "cell_type": "markdown",
   "metadata": {},
   "source": [
    "# [3.2 PermMissingElem](https://app.codility.com/programmers/lessons/3-time_complexity/perm_missing_elem/)\n",
    "\n",
    "**Goal**: Find the element missing in array (A) of N different integers containing integers in range [1 - N+1]\n",
    "- N is within range [0 --> 1e5]\n",
    "- el of A are all distinct\n",
    "- el is within range [1 --> N+1]\n"
   ]
  },
  {
   "cell_type": "code",
   "execution_count": 2,
   "metadata": {},
   "outputs": [],
   "source": [
    "# Input\n",
    "A = [1,2,3,5]\n"
   ]
  },
  {
   "cell_type": "markdown",
   "metadata": {},
   "source": [
    "### My Solution --> FAST"
   ]
  },
  {
   "cell_type": "code",
   "execution_count": 5,
   "metadata": {},
   "outputs": [
    {
     "name": "stdout",
     "output_type": "stream",
     "text": [
      "797 ns ± 4.29 ns per loop (mean ± std. dev. of 7 runs, 1000000 loops each)\n"
     ]
    }
   ],
   "source": [
    "%%timeit\n",
    "\n",
    "def my_solution(A):\n",
    "       \n",
    "    max_val = max(A)\n",
    "    store = [False]*max_val #if 3 present, A[2] True\n",
    "\n",
    "    # Indicate if value occurs in A\n",
    "    for i in A:\n",
    "        store[i-1] = True\n",
    "\n",
    "    # Must determine missing value\n",
    "    if all(store):\n",
    "        miss_val = max_val+1\n",
    "    else:\n",
    "        miss_val = store.index(False)+1\n",
    "    \n",
    "    return miss_val\n",
    "\n",
    "my_solution(A) \n"
   ]
  },
  {
   "cell_type": "code",
   "execution_count": null,
   "metadata": {},
   "outputs": [],
   "source": []
  }
 ],
 "metadata": {
  "kernelspec": {
   "display_name": "Python 3",
   "language": "python",
   "name": "python3"
  },
  "language_info": {
   "codemirror_mode": {
    "name": "ipython",
    "version": 3
   },
   "file_extension": ".py",
   "mimetype": "text/x-python",
   "name": "python",
   "nbconvert_exporter": "python",
   "pygments_lexer": "ipython3",
   "version": "3.7.4"
  }
 },
 "nbformat": 4,
 "nbformat_minor": 2
}
