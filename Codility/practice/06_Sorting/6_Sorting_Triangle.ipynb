{
 "cells": [
  {
   "cell_type": "markdown",
   "metadata": {},
   "source": [
    "# [6.4 Triangle](https://app.codility.com/programmers/lessons/6-sorting/triangle/)\n",
    "\n",
    "**Given**:\n",
    "- array A --> non-empty, N integers long\n",
    "\n",
    "\n",
    "\n",
    "**Goal**: Determine whether a triangle can be built from a given set of edges\n",
    "- Triplet (P,Q,R) is triangular if...\n",
    "    - 0 <= P < Q < N\n",
    "    - A[P] + A[Q] > A[R]\n",
    "    - A[Q] + A[R] > A[P]\n",
    "    - A[R] + A[P] > A[Q]\n",
    "- Return 1 if there exists a triangular triplet, else 0\n",
    "\n",
    "Ex: A=[10, 2, 5, 1, 8, 20]\n",
    "- Return 1: [5,8,10] forms triangle\n",
    "\n",
    "Ex: A=[10, 50, 5, 1]\n",
    "- Return 0: no triangle formed\n",
    "\n",
    "**Conditions**:\n",
    "- N = [0 --> 100000]\n",
    "- el in A an integer = [-2147483647, 2147483647]\n"
   ]
  },
  {
   "cell_type": "code",
   "execution_count": 2,
   "metadata": {},
   "outputs": [
    {
     "name": "stdout",
     "output_type": "stream",
     "text": [
      "50485 50485 49875\n"
     ]
    }
   ],
   "source": [
    "import random\n",
    "\n",
    "#Input\n",
    "N = random.sample([*range(100000)],1)[0]            # len of Array A\n",
    "A = random.choices([*range(-1000000,1000000)], k=N) # select N elements from list, with replacement\n",
    "\n",
    "print(N, len(A), len(set(A)))"
   ]
  },
  {
   "cell_type": "markdown",
   "metadata": {},
   "source": [
    "### My Solution -->  100%\n"
   ]
  },
  {
   "cell_type": "code",
   "execution_count": 6,
   "metadata": {},
   "outputs": [
    {
     "name": "stdout",
     "output_type": "stream",
     "text": [
      "6.18 ms ± 327 µs per loop (mean ± std. dev. of 7 runs, 100 loops each)\n"
     ]
    }
   ],
   "source": [
    "%%timeit \n",
    "\n",
    "def my_solution(A):\n",
    "\n",
    "    # Array A must include 3 values\n",
    "    if len(A)<3:\n",
    "        return 0\n",
    "\n",
    "    A.sort() # sort array\n",
    "    ans = 0\n",
    "    for i in range(0,len(A)-2):\n",
    "        x,y,z = A[i], A[i+1], A[i+2]\n",
    "\n",
    "        if x>0:\n",
    "            if all([x+y>z, y+z>x, z+x>y]): # can be simplified to X+Y>Z; already know X<Y<Z because we sorted array \n",
    "                return 1\n",
    "            \n",
    "    return 0\n",
    "         \n",
    "my_solution(A) \n"
   ]
  },
  {
   "cell_type": "markdown",
   "metadata": {},
   "source": [
    "### Alternative Solution --> Simplified if-statement\n",
    "- Triangle satisfies all conditions: [x+y>z, y+z>x, z+x>y]\n",
    "- Sorting array guarantees that x<y<z\n",
    "- if x+y>z true, then we already know y+z>x and z+x>y"
   ]
  },
  {
   "cell_type": "code",
   "execution_count": 7,
   "metadata": {},
   "outputs": [
    {
     "name": "stdout",
     "output_type": "stream",
     "text": [
      "6.16 ms ± 438 µs per loop (mean ± std. dev. of 7 runs, 100 loops each)\n"
     ]
    }
   ],
   "source": [
    "%%timeit\n",
    "\n",
    "def alt_solution(A):\n",
    "    if 3 > len(A):\n",
    "        return 0\n",
    " \n",
    "    A.sort()\n",
    " \n",
    "    for i in range(len(A)-2):\n",
    "        if A[i] + A[i+1] > A[i+2]:\n",
    "            return 1\n",
    " \n",
    "    return 0\n",
    "\n",
    "alt_solution(A)\n"
   ]
  },
  {
   "cell_type": "code",
   "execution_count": null,
   "metadata": {},
   "outputs": [],
   "source": []
  }
 ],
 "metadata": {
  "kernelspec": {
   "display_name": "Python 3",
   "language": "python",
   "name": "python3"
  },
  "language_info": {
   "codemirror_mode": {
    "name": "ipython",
    "version": 3
   },
   "file_extension": ".py",
   "mimetype": "text/x-python",
   "name": "python",
   "nbconvert_exporter": "python",
   "pygments_lexer": "ipython3",
   "version": "3.7.4"
  }
 },
 "nbformat": 4,
 "nbformat_minor": 2
}
