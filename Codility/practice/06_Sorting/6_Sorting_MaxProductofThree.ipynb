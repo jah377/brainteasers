{
 "cells": [
  {
   "cell_type": "markdown",
   "metadata": {},
   "source": [
    "# [6.2 MaxProductofThree](https://app.codility.com/programmers/lessons/6-sorting/distinct/)\n",
    "\n",
    "**Given**:\n",
    "- array A --> non-empty, N integers long\n",
    "- Product of triplet (P,Q,R) = A[P] x A[Q] x A[R]\n",
    "\n",
    "\n",
    "**Goal**: Compute number of distinct values\n",
    "\n",
    "Ex: A=[-3,1,2,-2,5,6]\n",
    "- (i = 0,1,2) --> [-3,1,2] = -6\n",
    "- (i = 1,2,4) --> [1*2*5] = 10\n",
    "- (i = 2,4,5) --> [2,5,6] = 60\n",
    "\n",
    "\n",
    "**Conditions**:\n",
    "- N = [3 --> 100000]\n",
    "- el in A an integer = [-1000, 1000]\n",
    "- (0 ≤ P < Q < R < N)\n"
   ]
  },
  {
   "cell_type": "code",
   "execution_count": 29,
   "metadata": {},
   "outputs": [
    {
     "name": "stdout",
     "output_type": "stream",
     "text": [
      "58543 100000 2000\n"
     ]
    }
   ],
   "source": [
    "import random\n",
    "\n",
    "#Input\n",
    "N = random.sample([*range(3,100000)],1)[0]\n",
    "A = random.choices([*range(-1000,1000)], k=N)\n",
    "\n",
    "print(N, len(A), len(set(A)))\n"
   ]
  },
  {
   "cell_type": "markdown",
   "metadata": {},
   "source": [
    "### My Solution -->  40%\n",
    "- Incorrectly assumes top 3 values all positive\n",
    "- Ex: [-5,-5,4,5] --> -5 x 4 x 5\n",
    "    - Should also consider -5 x -5 x 5"
   ]
  },
  {
   "cell_type": "code",
   "execution_count": 34,
   "metadata": {},
   "outputs": [
    {
     "name": "stdout",
     "output_type": "stream",
     "text": [
      "448 µs ± 2.49 µs per loop (mean ± std. dev. of 7 runs, 1000 loops each)\n"
     ]
    }
   ],
   "source": [
    "%%timeit\n",
    "\n",
    "def my_solution(A):\n",
    "    A.sort()\n",
    "    \n",
    "    return A[-1]*A[-2]*A[-3]\n",
    "     \n",
    "my_solution(A)    "
   ]
  },
  {
   "cell_type": "markdown",
   "metadata": {},
   "source": [
    "### Alternative Solution --> account for - values\n",
    "- if top 3 all positive, obviously max\n",
    "- if not, must multiply two largest negative values to cancel out"
   ]
  },
  {
   "cell_type": "code",
   "execution_count": 35,
   "metadata": {},
   "outputs": [
    {
     "name": "stdout",
     "output_type": "stream",
     "text": [
      "441 µs ± 4.41 µs per loop (mean ± std. dev. of 7 runs, 1000 loops each)\n"
     ]
    }
   ],
   "source": [
    "%%timeit\n",
    "\n",
    "def alt_solution(A):\n",
    "    A.sort()\n",
    "    noNeg = A[-1]*A[-2]*A[-3] # assume all pos.\n",
    "    ifNeg = A[0]*A[1]*A[-1]   # neg. A[0-1] cancel out\n",
    "    \n",
    "    return max(noNeg, ifNeg)\n",
    "     \n",
    "my_solution(A) "
   ]
  },
  {
   "cell_type": "code",
   "execution_count": null,
   "metadata": {},
   "outputs": [],
   "source": []
  }
 ],
 "metadata": {
  "kernelspec": {
   "display_name": "Python 3",
   "language": "python",
   "name": "python3"
  },
  "language_info": {
   "codemirror_mode": {
    "name": "ipython",
    "version": 3
   },
   "file_extension": ".py",
   "mimetype": "text/x-python",
   "name": "python",
   "nbconvert_exporter": "python",
   "pygments_lexer": "ipython3",
   "version": "3.7.4"
  }
 },
 "nbformat": 4,
 "nbformat_minor": 2
}
