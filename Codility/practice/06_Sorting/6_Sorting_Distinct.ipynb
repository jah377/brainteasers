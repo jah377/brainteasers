{
 "cells": [
  {
   "cell_type": "markdown",
   "metadata": {},
   "source": [
    "# [6.1 PassingCars](https://app.codility.com/programmers/lessons/6-sorting/distinct/)\n",
    "\n",
    "**Given**:\n",
    "- array A --> non-empty, N integers long\n",
    "\n",
    "\n",
    "**Goal**: Compute number of distinct values\n",
    "\n",
    "Ex: A=[2,1,1,2,3,1]\n",
    "- Return 3 distinct values\n",
    "\n",
    "\n",
    "**Conditions**:\n",
    "- N = [1 --> 100000]\n",
    "- el in A an integer = [-1e6, 1e6]"
   ]
  },
  {
   "cell_type": "markdown",
   "metadata": {},
   "source": [
    "### My Solution --> 100%\n",
    "- distinct values = len(set(A))"
   ]
  },
  {
   "cell_type": "code",
   "execution_count": 20,
   "metadata": {},
   "outputs": [
    {
     "name": "stdout",
     "output_type": "stream",
     "text": [
      "60237 60237 59321\n"
     ]
    }
   ],
   "source": [
    "import random\n",
    "\n",
    "#Input\n",
    "N = random.sample([*range(100000)],1)[0]\n",
    "A = random.choices([*range(-1000000,1000000)], k=N)\n",
    "\n",
    "print(N, len(A), len(set(A)))"
   ]
  },
  {
   "cell_type": "code",
   "execution_count": 21,
   "metadata": {},
   "outputs": [
    {
     "name": "stdout",
     "output_type": "stream",
     "text": [
      "8.09 ms ± 1.2 ms per loop (mean ± std. dev. of 7 runs, 100 loops each)\n"
     ]
    }
   ],
   "source": [
    "%%timeit\n",
    "\n",
    "def my_solution(A):\n",
    "    return len(set(A))\n",
    "     \n",
    "my_solution(A)    "
   ]
  },
  {
   "cell_type": "markdown",
   "metadata": {},
   "source": [
    "### Alternative Solution --> SLOWER, sorts array\n",
    "- Pythonic solution\n",
    "- Sort array, +1 counter if A[i]!=A[i+1]"
   ]
  },
  {
   "cell_type": "code",
   "execution_count": 22,
   "metadata": {},
   "outputs": [
    {
     "name": "stdout",
     "output_type": "stream",
     "text": [
      "12.8 ms ± 177 µs per loop (mean ± std. dev. of 7 runs, 100 loops each)\n"
     ]
    }
   ],
   "source": [
    "%%timeit\n",
    "\n",
    "def alt_solution(A):\n",
    "    if len(A)==0:\n",
    "        return 0\n",
    "    \n",
    "    A.sort() # sort values\n",
    "    distinct_val = 1\n",
    "    last_value = A[0]\n",
    "    \n",
    "    for idx in range(1,len(A)):\n",
    "        if A[idx] != last_value:\n",
    "            distinct_val += 1\n",
    "            last_value = A[idx]\n",
    "            \n",
    "    return distinct_val\n",
    "\n",
    "\n",
    "alt_solution(A)"
   ]
  },
  {
   "cell_type": "code",
   "execution_count": null,
   "metadata": {},
   "outputs": [],
   "source": []
  }
 ],
 "metadata": {
  "kernelspec": {
   "display_name": "Python 3",
   "language": "python",
   "name": "python3"
  },
  "language_info": {
   "codemirror_mode": {
    "name": "ipython",
    "version": 3
   },
   "file_extension": ".py",
   "mimetype": "text/x-python",
   "name": "python",
   "nbconvert_exporter": "python",
   "pygments_lexer": "ipython3",
   "version": "3.7.4"
  }
 },
 "nbformat": 4,
 "nbformat_minor": 2
}
