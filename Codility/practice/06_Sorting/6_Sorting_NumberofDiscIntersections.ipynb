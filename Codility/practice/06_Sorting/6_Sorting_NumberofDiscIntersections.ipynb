{
 "cells": [
  {
   "cell_type": "markdown",
   "metadata": {},
   "source": [
    "# [6.3 NumberOfDiscIntersection](https://app.codility.com/programmers/lessons/6-sorting/number_of_disc_intersections/)\n",
    "\n",
    "**Given**:\n",
    "- array A --> non-empty, N integers long\n",
    "- Array specifies radiuses of the discs, is given\n",
    "- The J-th disc is drawn with its center at (J,0) and radius A[J]\n",
    "\n",
    "\n",
    "**Goal**: Computer the number of intersections in a sequence of discs\n",
    "- Intersection: J!=K and Jth and Kth discs have 1+ common points (includes internal points)\n",
    "\n",
    "Ex: A=[1,5,2,1,4,0]\n",
    "- Disc0, A[0]=1 --> -1 and 1 on x-axis\n",
    "- Disc1, A[1]=5 --> -4 and 6\n",
    "- Disc2, A[2]=2 --> 0 and 4\n",
    "- Disc3, A[3]=1 --> 2 and 4\n",
    "- Disc4, A[4]=4 --> 0 and 8\n",
    "- Disc5, A[5]=0 --> 5\n",
    "\n",
    "Intersections = 11\n",
    "\n",
    "\n",
    "**Conditions**:\n",
    "- N = [0 --> 100000]\n",
    "- el in A an integer = [0, 2147483647]\n"
   ]
  },
  {
   "cell_type": "code",
   "execution_count": 2,
   "metadata": {},
   "outputs": [],
   "source": [
    "import random\n",
    "\n",
    "#Input\n",
    "A=[1,5,2,1,4,0]\n"
   ]
  },
  {
   "cell_type": "markdown",
   "metadata": {},
   "source": [
    "### My Solution -->  COULDN'T SOLVE\n",
    "- Keep track of circle counts per x-value\n"
   ]
  },
  {
   "cell_type": "code",
   "execution_count": 52,
   "metadata": {},
   "outputs": [],
   "source": [
    "# # Calculate span of circles\n",
    "# span = []\n",
    "# for center,rad in enumerate(A):\n",
    "#     span.append([(center-rad), (center+rad)])\n",
    "\n",
    "# # Calculate number of circles spanning x-axis\n",
    "# max_ = max(A)\n",
    "# min_ = min(A)\n",
    "# store = [0]*(max_ + min_)\n",
    "\n",
    "# for circle in span:\n",
    "#     diameter = abs(circle[0])+abs(circle[1])\n",
    "#     store[circle[0]: circle[1]] += [1]*diameter\n",
    "    \n",
    "    \n",
    "\n"
   ]
  },
  {
   "cell_type": "markdown",
   "metadata": {},
   "source": [
    "### [Alternative Solution](http://www.lucainvernizzi.net/blog/2014/11/21/codility-beta-challenge-number-of-disc-intersections/) --> Similar approach, but elegant\n",
    "- Pass through x-axis at start/end points of circles\n",
    "- Keep track of 'active' circles\n",
    "    - span = [(i-a, +1), (i+a, -1)] **+1=start, -1=end**\n"
   ]
  },
  {
   "cell_type": "code",
   "execution_count": 53,
   "metadata": {},
   "outputs": [
    {
     "data": {
      "text/plain": [
       "11"
      ]
     },
     "execution_count": 53,
     "metadata": {},
     "output_type": "execute_result"
    }
   ],
   "source": [
    "def alt_solution(A):\n",
    "    \n",
    "    # Create nested list of circle endpoints\n",
    "    span = []\n",
    "    for center,rad in enumerate(A):\n",
    "        span.append((center-rad, 1))  # store start point\n",
    "        span.append((center+rad, -1)) # store end point\n",
    "\n",
    "    # Sort nested list of circles by start and end points\n",
    "    span.sort(key=lambda x: (x[0], -x[1]))\n",
    "\n",
    "    # Count circles passing through start/end points\n",
    "    intersect = 0\n",
    "    active_circles = 0\n",
    "\n",
    "    for x_val, delta_count in span:\n",
    "        intersect += active_circles * (delta_count>0)\n",
    "        active_circles += delta_count\n",
    "\n",
    "        if intersect>10e6:\n",
    "            return -1\n",
    "\n",
    "    return intersect\n",
    "\n",
    "    \n",
    "alt_solution(A)\n",
    "\n",
    "\n"
   ]
  },
  {
   "cell_type": "code",
   "execution_count": null,
   "metadata": {},
   "outputs": [],
   "source": []
  }
 ],
 "metadata": {
  "kernelspec": {
   "display_name": "Python 3",
   "language": "python",
   "name": "python3"
  },
  "language_info": {
   "codemirror_mode": {
    "name": "ipython",
    "version": 3
   },
   "file_extension": ".py",
   "mimetype": "text/x-python",
   "name": "python",
   "nbconvert_exporter": "python",
   "pygments_lexer": "ipython3",
   "version": "3.7.4"
  }
 },
 "nbformat": 4,
 "nbformat_minor": 2
}
