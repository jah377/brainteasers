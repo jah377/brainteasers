{
 "cells": [
  {
   "cell_type": "markdown",
   "metadata": {},
   "source": [
    "# [2.2 OddOccurrencesInArray](https://app.codility.com/programmers/lessons/2-arrays/odd_occurrences_in_array/)\n",
    "\n",
    "**Goal**: Given an array A, consisting of N integers, return the value of the unpaired element.\n",
    "- N is odd [1-1e6]\n",
    "- A contains els within [1-1e9]\n",
    "- Ex: [9,3,9,3,9,9,7] --> unpaired el = 7\n"
   ]
  },
  {
   "cell_type": "code",
   "execution_count": 2,
   "metadata": {},
   "outputs": [],
   "source": [
    "# Input\n",
    "A = [9,3,9,3,9,7,9]\n"
   ]
  },
  {
   "cell_type": "markdown",
   "metadata": {},
   "source": [
    "### My Solution --> SLOWER\n",
    "- Slow because I repeatedly iterate over array\n",
    "    - arr.count(el)%2==1 to ID odd count\n"
   ]
  },
  {
   "cell_type": "code",
   "execution_count": 5,
   "metadata": {},
   "outputs": [
    {
     "name": "stdout",
     "output_type": "stream",
     "text": [
      "922 ns ± 4.39 ns per loop (mean ± std. dev. of 7 runs, 1000000 loops each)\n"
     ]
    }
   ],
   "source": [
    "%%timeit\n",
    "\n",
    "def my_solution(A):\n",
    "    for el in A:\n",
    "        if A.count(el)%2==1:\n",
    "            return el\n",
    "        else:\n",
    "            continue\n",
    "    \n",
    "my_solution(A)\n"
   ]
  },
  {
   "cell_type": "markdown",
   "metadata": {},
   "source": [
    "### Alternative Solution --> FASTER\n",
    "- Uses XOR bitwise operator\n",
    "    - Ex: A xor A = 0\n",
    "    - Ex: B xor 0 = B\n",
    "    - Ex: C xor A xor B xor A xor C = B\n"
   ]
  },
  {
   "cell_type": "code",
   "execution_count": 4,
   "metadata": {},
   "outputs": [
    {
     "name": "stdout",
     "output_type": "stream",
     "text": [
      "524 ns ± 8.66 ns per loop (mean ± std. dev. of 7 runs, 1000000 loops each)\n"
     ]
    }
   ],
   "source": [
    "%%timeit\n",
    "\n",
    "def alt_solution(A):\n",
    "    missing_int = 0\n",
    "    \n",
    "    for el in A:\n",
    "        missing_int ^= el\n",
    "    \n",
    "    return missing_int\n",
    "\n",
    "alt_solution(A)"
   ]
  },
  {
   "cell_type": "code",
   "execution_count": null,
   "metadata": {},
   "outputs": [],
   "source": []
  }
 ],
 "metadata": {
  "kernelspec": {
   "display_name": "Python 3",
   "language": "python",
   "name": "python3"
  },
  "language_info": {
   "codemirror_mode": {
    "name": "ipython",
    "version": 3
   },
   "file_extension": ".py",
   "mimetype": "text/x-python",
   "name": "python",
   "nbconvert_exporter": "python",
   "pygments_lexer": "ipython3",
   "version": "3.7.4"
  }
 },
 "nbformat": 4,
 "nbformat_minor": 2
}
