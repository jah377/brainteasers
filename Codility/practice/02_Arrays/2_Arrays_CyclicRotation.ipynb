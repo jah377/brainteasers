{
 "cells": [
  {
   "cell_type": "markdown",
   "metadata": {},
   "source": [
    "# [2.1 CyclicRotation](https://app.codility.com/programmers/lessons/2-arrays/cyclic_rotation/)\n",
    "\n",
    "**Goal**: Rotate through array (A) by K elements\n",
    "- Ex: [3,8,9,7,6] n=0 --> [3,8,9,7,6]\n",
    "- Ex: [3,8,9,7,6] n=1 --> [6,3,8,9,7]\n",
    "- Ex: [3,8,9,7,6] n=2 --> [7,6,3,8,9]\n",
    "- Ex: [3,8,9,7,6] n=3 --> [9,7,6,3,8]"
   ]
  },
  {
   "cell_type": "code",
   "execution_count": 2,
   "metadata": {},
   "outputs": [],
   "source": [
    "# Input\n",
    "A = [3,8,9,7,6]  # array\n",
    "K = 8            # number of rotations\n"
   ]
  },
  {
   "cell_type": "markdown",
   "metadata": {},
   "source": [
    "### My Solution\n",
    "- if K=26 and len(A)=8 --> only need to rotate through 2 elements\n",
    "    - 26 els - (8 els * 3 rotations) = 2 els\n",
    "- Creatively slice and combine array segments"
   ]
  },
  {
   "cell_type": "code",
   "execution_count": 3,
   "metadata": {},
   "outputs": [
    {
     "name": "stdout",
     "output_type": "stream",
     "text": [
      "469 ns ± 6.05 ns per loop (mean ± std. dev. of 7 runs, 1000000 loops each)\n"
     ]
    }
   ],
   "source": [
    "%%timeit\n",
    "\n",
    "def my_solution(A,K):\n",
    "    \n",
    "    if len(A):\n",
    "        # if K>len(A), only interested in remaining number of element rotations\n",
    "        remain_els = K % len(A) # remaining number of els to cycle through\n",
    "        ans = A[-remain_els:] + A[:-remain_els] # slice based on number of elements to cycle through\n",
    "    else:\n",
    "        ans = A\n",
    "    \n",
    "    return ans\n",
    "    \n",
    "my_solution(A,K)\n"
   ]
  },
  {
   "cell_type": "code",
   "execution_count": null,
   "metadata": {},
   "outputs": [],
   "source": []
  }
 ],
 "metadata": {
  "kernelspec": {
   "display_name": "Python 3",
   "language": "python",
   "name": "python3"
  },
  "language_info": {
   "codemirror_mode": {
    "name": "ipython",
    "version": 3
   },
   "file_extension": ".py",
   "mimetype": "text/x-python",
   "name": "python",
   "nbconvert_exporter": "python",
   "pygments_lexer": "ipython3",
   "version": "3.7.4"
  }
 },
 "nbformat": 4,
 "nbformat_minor": 2
}
