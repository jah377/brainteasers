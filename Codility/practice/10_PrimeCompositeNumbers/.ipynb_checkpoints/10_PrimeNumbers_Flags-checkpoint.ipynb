{
 "cells": [
  {
   "cell_type": "markdown",
   "metadata": {},
   "source": [
    "# [10.2 Flags](https://app.codility.com/programmers/lessons/10-prime_and_composite_numbers/flags/)\n",
    "\n",
    "**Given**:\n",
    "- non-empty array A of N integers\n",
    "- Peak is an array element larger than its neighbors\n",
    "    - 0 < P < N-1\n",
    "    - A[P-1] < A[P] > A[P+1]\n",
    "- A represents heights of mountain range\n",
    "    \n",
    "**Background**\n",
    "- Going on trip and setting flags on peaks\n",
    "- Rules\n",
    "    - Flags can only go on peaks\n",
    "    - Dist between flags must be >= K, number of flags\n",
    "\n",
    "\n",
    "**Goal**: Set max number of flags on peaks\n",
    "\n",
    "Ex: A = [1,5,3,4,3,4,1,2,3,4,6,2]\n",
    "- result = 3\n",
    "- Peaks: i=1,3,5,10\n",
    "\n",
    "\n",
    "**Conditions**:\n",
    "- N = [1 --> 400,000]\n",
    "- el of A = [0, 1e9]\n"
   ]
  },
  {
   "cell_type": "code",
   "execution_count": 92,
   "metadata": {},
   "outputs": [],
   "source": [
    "# Input\n",
    "\n",
    "A = [1,5,3,4,3,4,1,2,3,4,6,2]"
   ]
  },
  {
   "cell_type": "markdown",
   "metadata": {},
   "source": [
    "## Solution 1: "
   ]
  },
  {
   "cell_type": "code",
   "execution_count": 83,
   "metadata": {},
   "outputs": [
    {
     "name": "stdout",
     "output_type": "stream",
     "text": [
      "1 100000000 1\n",
      "1 100000000 1\n",
      "5 3 2\n",
      "10 3 3\n"
     ]
    }
   ],
   "source": [
    "N = len(A)\n",
    "first_peak = True\n",
    "min_dist = 100000000\n",
    "K=0\n",
    "peaks = [i for i in range(1,N-1) if A[i-1]<A[i]>A[i+1]]\n",
    "\n",
    "for i in peaks:\n",
    "\n",
    "    if first_peak:\n",
    "        first_peak = False\n",
    "        last_peak = i       # store previous peak\n",
    "        K=1\n",
    "    else:\n",
    "        current_peak = i              # current peak\n",
    "        dist = current_peak-last_peak # delta\n",
    "        \n",
    "        if dist-1 >= K+1:\n",
    "            if min_dist >= K+1:\n",
    "                K+=1\n",
    "                last_peak = i\n",
    "                min_dist = min(min_dist, dist-1)\n",
    "            else:\n",
    "                min_dist += dist\n",
    "                \n",
    "\n",
    "    \n"
   ]
  },
  {
   "cell_type": "code",
   "execution_count": 86,
   "metadata": {},
   "outputs": [
    {
     "name": "stdout",
     "output_type": "stream",
     "text": [
      "5 100000000 1\n",
      "5 100000000 1\n"
     ]
    },
    {
     "data": {
      "text/plain": [
       "1"
      ]
     },
     "execution_count": 86,
     "metadata": {},
     "output_type": "execute_result"
    }
   ],
   "source": [
    "def solution(A):\n",
    "    N = len(A)\n",
    "    first_peak=True\n",
    "    min_dist = 100000000\n",
    "    K=0\n",
    "\n",
    "    for i in range(1,N-1):\n",
    "        if A[i-1]<A[i]>A[i+1]:\n",
    "\n",
    "            if first_peak:\n",
    "                first_peak = False\n",
    "                last_peak = i       # store previous peak\n",
    "                K=1\n",
    "            else:\n",
    "                current_peak = i              # current peak\n",
    "                dist = current_peak-last_peak # delta\n",
    "\n",
    "                if dist-1 >= K+1:\n",
    "                    if min_dist >= K+1:\n",
    "                        K+=1\n",
    "                        last_peak = i\n",
    "                        min_dist = min(min_dist, dist-1)\n",
    "                    else:\n",
    "                        min_dist += dist\n",
    "            print(last_peak, min_dist, K)\n",
    "\n",
    "    return K\n",
    "            \n",
    "solution([0, 0, 0, 0, 0, 1, 0, 1, 0, 1])"
   ]
  },
  {
   "cell_type": "code",
   "execution_count": 65,
   "metadata": {},
   "outputs": [
    {
     "name": "stdout",
     "output_type": "stream",
     "text": [
      "2.15 µs ± 50.7 ns per loop (mean ± std. dev. of 7 runs, 100000 loops each)\n"
     ]
    }
   ],
   "source": [
    "%%timeit\n",
    "\n",
    "solution(A)\n",
    "\n"
   ]
  },
  {
   "cell_type": "markdown",
   "metadata": {},
   "source": [
    "## Alternative Solution 1"
   ]
  },
  {
   "cell_type": "code",
   "execution_count": 111,
   "metadata": {},
   "outputs": [
    {
     "data": {
      "text/plain": [
       "[False, False, False, False, False, True, False, True, False, False]"
      ]
     },
     "execution_count": 111,
     "metadata": {},
     "output_type": "execute_result"
    }
   ],
   "source": [
    "# Create array of peaks\n",
    "def create_peaks(A):\n",
    "    N = len(A)              # length of array\n",
    "    peaks = [False] * N     # store boolean\n",
    "    \n",
    "    for i in range(1, N - 1): \n",
    "        \n",
    "        if A[i] > max(A[i - 1], A[i + 1]): \n",
    "            \n",
    "            peaks[i] = True # update if peak\n",
    "    \n",
    "    return peaks\n",
    "\n"
   ]
  },
  {
   "cell_type": "code",
   "execution_count": 122,
   "metadata": {},
   "outputs": [
    {
     "data": {
      "text/plain": [
       "True"
      ]
     },
     "execution_count": 122,
     "metadata": {},
     "output_type": "execute_result"
    }
   ],
   "source": [
    "# Check whether K flags can be set\n",
    "def check(K,A):\n",
    "    \n",
    "    N = len(A)\n",
    "    peaks = create_peaks(A) # boolean if peaks\n",
    "    flags = K               # input number of flags\n",
    "    pos = 0                 # index\n",
    "    \n",
    "    while pos < N and flags > 0:\n",
    "        if peaks[pos]:\n",
    "            flags -= 1      # subtract from flag count\n",
    "            pos += K        # update min position for potential flag\n",
    "        else:\n",
    "            pos +=1         # iterate to next position\n",
    "            \n",
    "    return flags == 0\n",
    "\n",
    "check(3,A)"
   ]
  },
  {
   "cell_type": "code",
   "execution_count": 127,
   "metadata": {},
   "outputs": [],
   "source": [
    "# Determine next peak (at each position, what is next sequential peak index)\n",
    "def next_peak(A):\n",
    "    N = len(A)\n",
    "    peaks = create_peaks(A) # boolean if peaks\n",
    "    next = [0]*N            # store next peak\n",
    "    next[N-1] = -1          # indicate last peak\n",
    "    \n",
    "    for i in range(N-2,-1,-1): # go backwards\n",
    "        if peaks[i]:\n",
    "            next[i] = i        # i=peak\n",
    "        else:\n",
    "            next[i] = next[i+1] # assign preceding next[i] with i unless actual peak\n",
    "    \n",
    "    return next # [1, 1, 3, 3, 5, 5, 10, 10, 10, 10, 10, -1]\n"
   ]
  },
  {
   "cell_type": "code",
   "execution_count": 132,
   "metadata": {},
   "outputs": [
    {
     "name": "stdout",
     "output_type": "stream",
     "text": [
      "1 0 0 0 0\n",
      "1\n",
      "2 2 0 0 1\n",
      "1\n",
      "3\n",
      "3 6 0 0 2\n",
      "1\n",
      "5\n",
      "10\n",
      "4 12 0 0 3\n",
      "1\n",
      "5\n",
      "10\n"
     ]
    },
    {
     "data": {
      "text/plain": [
       "3"
      ]
     },
     "execution_count": 132,
     "metadata": {},
     "output_type": "execute_result"
    }
   ],
   "source": [
    "# Solution\n",
    "def alt_solution(A):\n",
    "    N = len(A)\n",
    "    next = next_peak(A) # next peak at each indice\n",
    "    i = 1\n",
    "    result = 0\n",
    "    \n",
    "    # for every index, i, cannot take more than i flags and set more than N/i+1 flags.\n",
    "    while (i-1)*i <= N:\n",
    "        pos = 0 # position\n",
    "        num = 0 # number of flags\n",
    "        print(i, (i-1)*i, pos, num, result)\n",
    "\n",
    "\n",
    "        while pos < N and num < i:\n",
    "            pos = next[pos] # next position\n",
    "            if pos == -1:\n",
    "                break\n",
    "            num += 1\n",
    "            pos += i\n",
    "        \n",
    "        result = max(result, num)\n",
    "        i += 1\n",
    "        \n",
    "    return result\n",
    "\n",
    "alt_solution(A)"
   ]
  },
  {
   "cell_type": "code",
   "execution_count": null,
   "metadata": {},
   "outputs": [],
   "source": []
  }
 ],
 "metadata": {
  "kernelspec": {
   "display_name": "Python 3",
   "language": "python",
   "name": "python3"
  },
  "language_info": {
   "codemirror_mode": {
    "name": "ipython",
    "version": 3
   },
   "file_extension": ".py",
   "mimetype": "text/x-python",
   "name": "python",
   "nbconvert_exporter": "python",
   "pygments_lexer": "ipython3",
   "version": "3.7.4"
  }
 },
 "nbformat": 4,
 "nbformat_minor": 2
}
