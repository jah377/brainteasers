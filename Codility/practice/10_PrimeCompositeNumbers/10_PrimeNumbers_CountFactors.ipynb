{
 "cells": [
  {
   "cell_type": "markdown",
   "metadata": {},
   "source": [
    "# [10.1 CountFactors](https://app.codility.com/programmers/lessons/10-prime_and_composite_numbers/count_factors/)\n",
    "\n",
    "**Given**:\n",
    "- positive integer, N\n",
    "- D is factor of N if N = D x M\n",
    "\n",
    "\n",
    "**Goal**: Find number of factors for N\n",
    "\n",
    "Ex: N = 24\n",
    "- result = 8\n",
    "- [1,2,3,4,6,8,12,24]\n",
    "\n",
    "\n",
    "**Conditions**:\n",
    "- N = [1 --> 2.1e6]\n"
   ]
  },
  {
   "cell_type": "code",
   "execution_count": 33,
   "metadata": {},
   "outputs": [
    {
     "name": "stdout",
     "output_type": "stream",
     "text": [
      "979820962\n"
     ]
    }
   ],
   "source": [
    "# Input\n",
    "import random\n",
    "\n",
    "N = random.randint(1,2147483647)\n",
    "print(N)"
   ]
  },
  {
   "cell_type": "markdown",
   "metadata": {},
   "source": [
    "## Solution 1: 57% O(N) \n",
    "- Pass through range(1,n+1)\n",
    "- if n%i==0 --> add to result\n",
    "\n",
    "**INEFFICIENT: TIMEOUT ERROR**\n",
    "- Must pass through entire range of numbers\n"
   ]
  },
  {
   "cell_type": "code",
   "execution_count": 34,
   "metadata": {},
   "outputs": [],
   "source": [
    "def solution1(N):\n",
    "\n",
    "    factors = 0\n",
    "    \n",
    "    for i in range(1,N+1):\n",
    "        if N%i==0:\n",
    "            factors+= 1\n",
    "            \n",
    "    return factors\n"
   ]
  },
  {
   "cell_type": "code",
   "execution_count": 35,
   "metadata": {},
   "outputs": [
    {
     "name": "stdout",
     "output_type": "stream",
     "text": [
      "1min 1s ± 1.44 s per loop (mean ± std. dev. of 7 runs, 1 loop each)\n"
     ]
    }
   ],
   "source": [
    "%%timeit\n",
    "solution1(N)"
   ]
  },
  {
   "cell_type": "markdown",
   "metadata": {},
   "source": [
    "## Solution 2: \n",
    "\n",
    "**Theory**\n",
    "- Only need to pass through range(1, sqrt(n))\n",
    "- i x i = n --> i cannot be greater than sqrt(n)\n",
    "- if n%i==0, consider 2 factors\n",
    "\n",
    "**Ex: n=16**\n",
    "- i=1 --> 16%1=0 --> TWO factors (1 & 10)\n",
    "- i=2 --> 16%2=0 --> TWO factors (2 & 8)\n",
    "- i=3 --> 16%3=1 --> cannot be factor\n",
    "- i=4 --> 16%4=0 --> ONE factor (4 & 4 same number)\n"
   ]
  },
  {
   "cell_type": "code",
   "execution_count": 36,
   "metadata": {},
   "outputs": [],
   "source": [
    "def solution2(N):\n",
    "    i = 1\n",
    "    factors = 0\n",
    "    \n",
    "    while ( i*i<N ):\n",
    "        if ( N%i==0 ):\n",
    "            factors+=2  # add 2 factors (i*unknown = n)\n",
    "        i += 1          # go to next i < sqrt(n)\n",
    "       \n",
    "    # Must consider if i = sqrt(i=n)\n",
    "    if ( i*i==N ):\n",
    "        factors+=1    # only add 1 factor (i*i=n)\n",
    "        \n",
    "    return factors\n"
   ]
  },
  {
   "cell_type": "code",
   "execution_count": 37,
   "metadata": {},
   "outputs": [
    {
     "name": "stdout",
     "output_type": "stream",
     "text": [
      "3.67 ms ± 11 µs per loop (mean ± std. dev. of 7 runs, 100 loops each)\n"
     ]
    }
   ],
   "source": [
    "%%timeit\n",
    "\n",
    "solution2(N)\n"
   ]
  },
  {
   "cell_type": "code",
   "execution_count": null,
   "metadata": {},
   "outputs": [],
   "source": []
  }
 ],
 "metadata": {
  "kernelspec": {
   "display_name": "Python 3",
   "language": "python",
   "name": "python3"
  },
  "language_info": {
   "codemirror_mode": {
    "name": "ipython",
    "version": 3
   },
   "file_extension": ".py",
   "mimetype": "text/x-python",
   "name": "python",
   "nbconvert_exporter": "python",
   "pygments_lexer": "ipython3",
   "version": "3.7.4"
  }
 },
 "nbformat": 4,
 "nbformat_minor": 2
}
