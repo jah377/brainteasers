{
 "cells": [
  {
   "cell_type": "markdown",
   "metadata": {},
   "source": [
    "# [8.2 EquiLeader](https://app.codility.com/programmers/lessons/8-leader/equi_leader/)\n",
    "\n",
    "**Given**:\n",
    "- Array A of N integers\n",
    "- *leader* = value occurs >50%\n",
    "- *eqileader* = index S such that two sequences have same leader value\n",
    "    - O<S<N-1 --> A[0-S] nad A[S+1-N]\n",
    "\n",
    "\n",
    "**Goal**: Find index S such that leaders of sequences are the same\n",
    "\n",
    "Ex: A = [4,3,4,4,4,2]\n",
    "- Return 2 --> two equileaders\n",
    "    - i=0 --> [4] and [3,4,4,4,2]\n",
    "    - i=2 --> [4,3,4] and [4,4,2]\n",
    "\n",
    "\n",
    "**Conditions**:\n",
    "- N = [1 --> 100,000]\n",
    "- el in H = [−1e9 --> 1e9]\n"
   ]
  },
  {
   "cell_type": "code",
   "execution_count": 1,
   "metadata": {},
   "outputs": [],
   "source": [
    "#Input\n",
    "A = [4, 4, 2, 5, 3, 4, 4, 4]\n"
   ]
  },
  {
   "cell_type": "markdown",
   "metadata": {},
   "source": [
    "### My Solution --> 100%\n",
    "- Calculate Leader for entire array\n",
    "- Keep track of leader counts in left and right slices"
   ]
  },
  {
   "cell_type": "code",
   "execution_count": 2,
   "metadata": {},
   "outputs": [
    {
     "name": "stdout",
     "output_type": "stream",
     "text": [
      "2.53 µs ± 64.9 ns per loop (mean ± std. dev. of 7 runs, 100000 loops each)\n"
     ]
    }
   ],
   "source": [
    "%%timeit\n",
    "\n",
    "def my_solution(A):\n",
    "    # Calculate Leader\n",
    "    n = len(A) # n els in A\n",
    "    size = 0   # size of stack\n",
    "    \n",
    "    for val in A:\n",
    "        if size==0:\n",
    "            stack_val = val # initiate stack\n",
    "            size+=1 \n",
    "        else:\n",
    "            if stack_val != val:\n",
    "                size -= 1   # remove count if non-matching\n",
    "            else:\n",
    "                size += 1   # add if val matching\n",
    "        \n",
    "    # If stack exists, remaining value possible Leader\n",
    "    if size>0:\n",
    "        candidate = stack_val\n",
    "    else:\n",
    "        return 0\n",
    "    \n",
    "    # Determine if candidate is Leader\n",
    "    count = 0\n",
    "    for val in A:\n",
    "        if val == candidate:\n",
    "            count += 1\n",
    "    if count <= n//2:\n",
    "        return 0 # count must be >n//2\n",
    "    else:\n",
    "        leader = candidate # not necessary\n",
    "        \n",
    "    # If Leader exists, determine n of eqileader\n",
    "    nLeft, nRight = 0, count\n",
    "    n_eqi = 0\n",
    "\n",
    "    if n>1:\n",
    "        for s in range(n-1):\n",
    "\n",
    "            if A[s]==leader:\n",
    "                nLeft+=1\n",
    "                nRight-=1 \n",
    "                                \n",
    "            if (nLeft/(s+1) > 0.5) and (nRight/(n-(s+1)) > 0.5):\n",
    "                n_eqi+=1\n",
    "            \n",
    "    return n_eqi\n",
    "                \n",
    "my_solution(A)"
   ]
  }
 ],
 "metadata": {
  "kernelspec": {
   "display_name": "Python 3",
   "language": "python",
   "name": "python3"
  },
  "language_info": {
   "codemirror_mode": {
    "name": "ipython",
    "version": 3
   },
   "file_extension": ".py",
   "mimetype": "text/x-python",
   "name": "python",
   "nbconvert_exporter": "python",
   "pygments_lexer": "ipython3",
   "version": "3.7.4"
  }
 },
 "nbformat": 4,
 "nbformat_minor": 2
}
