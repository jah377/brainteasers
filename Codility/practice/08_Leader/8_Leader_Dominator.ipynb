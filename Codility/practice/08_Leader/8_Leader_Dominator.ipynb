{
 "cells": [
  {
   "cell_type": "markdown",
   "metadata": {},
   "source": [
    "# [8.1 Dominator](https://app.codility.com/programmers/lessons/8-leader/dominator/)\n",
    "\n",
    "**Given**:\n",
    "- Array A of N integers\n",
    "\n",
    "\n",
    "**Goal**: Find an index of array such that its value occurs *more than half of indices* in the array\n",
    "- n(x) > n(rest)\n",
    "\n",
    "Ex: A = [3,2,3,4,3,3,3,-1]\n",
    "- Return idx=6, index of dominator\n",
    "\n",
    "**Conditions**:\n",
    "- N = [0 --> 100,000]\n",
    "- el in H = [−2,147,483,648 --> 2,147,483,648]\n"
   ]
  },
  {
   "cell_type": "code",
   "execution_count": 75,
   "metadata": {},
   "outputs": [],
   "source": [
    "#Input\n",
    "A = [3,2,3,4,3,3,3,-1]\n"
   ]
  },
  {
   "cell_type": "markdown",
   "metadata": {},
   "source": [
    "### My Solution --> 83% \n",
    "- If n(dom) > n(rest) --> most frequent value\n",
    "    - Store val in stack if val==stack[-1]\n",
    "    - If val!=stack[-1] remove value\n",
    "- if size(stack)>0 --> val[-1] stack is potential Dominator\n",
    "- for-loop through A to count occurance of potential Dominator\n"
   ]
  },
  {
   "cell_type": "code",
   "execution_count": 77,
   "metadata": {},
   "outputs": [
    {
     "data": {
      "text/plain": [
       "7"
      ]
     },
     "execution_count": 77,
     "metadata": {},
     "output_type": "execute_result"
    }
   ],
   "source": [
    "def my_solution(A):\n",
    "    n = len(A)     # number of el in A\n",
    "    size = 0       # store size of stack\n",
    "    \n",
    "    # Identify most common value\n",
    "    for val in A:\n",
    "        if size==0:\n",
    "            size+=1          # adjust size of stack\n",
    "            stack_val = val  # leading stack value\n",
    "        else:\n",
    "            if stack_val != val:\n",
    "                size -= 1    # reduce stack size\n",
    "            else:\n",
    "                size += 1    # increase stack size\n",
    "                \n",
    "    # Determine if remaining stack_val a possible candidate\n",
    "    candidate = -1 # default\n",
    "    if size>0:\n",
    "        candidate = stack_val\n",
    "        \n",
    "    # Determine if candidate is a dominator\n",
    "    leader = -1\n",
    "    count = 0 # store n(occurance)\n",
    "    for val in A:\n",
    "        if val == candidate:\n",
    "            count += 1\n",
    "            \n",
    "    if count > n//2:\n",
    "        return A.index(leader)\n",
    "        \n",
    "    return -1 \n",
    "\n",
    "\n",
    "my_solution(A)\n",
    "    "
   ]
  },
  {
   "cell_type": "markdown",
   "metadata": {},
   "source": [
    "### Alternative Solution -->  \n"
   ]
  },
  {
   "cell_type": "code",
   "execution_count": null,
   "metadata": {},
   "outputs": [],
   "source": []
  },
  {
   "cell_type": "code",
   "execution_count": null,
   "metadata": {},
   "outputs": [],
   "source": []
  }
 ],
 "metadata": {
  "kernelspec": {
   "display_name": "Python 3",
   "language": "python",
   "name": "python3"
  },
  "language_info": {
   "codemirror_mode": {
    "name": "ipython",
    "version": 3
   },
   "file_extension": ".py",
   "mimetype": "text/x-python",
   "name": "python",
   "nbconvert_exporter": "python",
   "pygments_lexer": "ipython3",
   "version": "3.7.4"
  }
 },
 "nbformat": 4,
 "nbformat_minor": 2
}
